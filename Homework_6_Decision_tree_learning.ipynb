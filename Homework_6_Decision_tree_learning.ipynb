{
 "cells": [
  {
   "cell_type": "markdown",
   "metadata": {},
   "source": [
    "# Session 6 - Decision Trees and Ensemble Learning - Homework\n",
    "#### By Quynh Le\n",
    "\n",
    "Part of the [Machine Learning Zoomcamp (September 2021 – December 2021)](https://datatalks.club/courses/2021-winter-ml-zoomcamp.html)\n",
    "\n",
    "\n",
    "\n",
    "## 6.10 Homework\n",
    "\n",
    "The goal of this homework is to create a tree-based regression model for prediction apartment prices (column `'price'`).\n",
    "\n",
    "In this homework we'll again use the New York City Airbnb Open Data dataset - the same one we used in homework 2 and 3.\n",
    "\n",
    "You can take it from [Kaggle](https://www.kaggle.com/dgomonov/new-york-city-airbnb-open-data?select=AB_NYC_2019.csv)\n",
    "or download from [here](https://raw.githubusercontent.com/alexeygrigorev/datasets/master/AB_NYC_2019.csv)\n",
    "if you don't want to sign up to Kaggle.\n",
    "\n",
    "Let's load the data:"
   ]
  },
  {
   "cell_type": "code",
   "execution_count": 1,
   "metadata": {},
   "outputs": [],
   "source": [
    "import pandas as pd\n",
    "import numpy as np\n",
    "\n",
    "import matplotlib.pyplot as plt\n",
    "import seaborn as sns\n",
    "\n",
    "%matplotlib inline"
   ]
  },
  {
   "cell_type": "code",
   "execution_count": 2,
   "metadata": {},
   "outputs": [],
   "source": [
    "from sklearn.model_selection import train_test_split\n",
    "from sklearn.feature_extraction import DictVectorizer\n",
    "from sklearn.tree import DecisionTreeRegressor\n",
    "from sklearn.metrics import roc_auc_score\n",
    "from sklearn.tree import export_text\n",
    "from sklearn.ensemble import RandomForestRegressor\n",
    "from sklearn import metrics"
   ]
  },
  {
   "cell_type": "code",
   "execution_count": 3,
   "metadata": {},
   "outputs": [
    {
     "name": "stderr",
     "output_type": "stream",
     "text": [
      "--2021-10-19 22:22:35--  https://raw.githubusercontent.com/alexeygrigorev/datasets/master/AB_NYC_2019.csv\n",
      "Resolving raw.githubusercontent.com (raw.githubusercontent.com)... 185.199.109.133, 185.199.110.133, 185.199.111.133, ...\n",
      "Connecting to raw.githubusercontent.com (raw.githubusercontent.com)|185.199.109.133|:443... connected.\n",
      "HTTP request sent, awaiting response... 200 OK\n",
      "Length: 7077973 (6.8M) [text/plain]\n",
      "Saving to: 'AB_NYC_2019.csv'\n",
      "\n",
      "     0K .......... .......... .......... .......... ..........  0% 1.58M 4s\n",
      "    50K .......... .......... .......... .......... ..........  1%  186K 20s\n",
      "   100K .......... .......... .......... .......... ..........  2% 85.3M 14s\n",
      "   150K .......... .......... .......... .......... ..........  2%  123M 10s\n",
      "   200K .......... .......... .......... .......... ..........  3% 66.0M 8s\n",
      "   250K .......... .......... .......... .......... ..........  4% 1.56M 7s\n",
      "   300K .......... .......... .......... .......... ..........  5% 8.51M 6s\n",
      "   350K .......... .......... .......... .......... ..........  5% 3.14M 6s\n",
      "   400K .......... .......... .......... .......... ..........  6% 4.16M 5s\n",
      "   450K .......... .......... .......... .......... ..........  7% 3.57M 5s\n",
      "   500K .......... .......... .......... .......... ..........  7% 10.9M 4s\n",
      "   550K .......... .......... .......... .......... ..........  8% 4.75M 4s\n",
      "   600K .......... .......... .......... .......... ..........  9% 58.9M 4s\n",
      "   650K .......... .......... .......... .......... .......... 10% 4.29M 4s\n",
      "   700K .......... .......... .......... .......... .......... 10% 36.0M 3s\n",
      "   750K .......... .......... .......... .......... .......... 11% 5.52M 3s\n",
      "   800K .......... .......... .......... .......... .......... 12% 45.3M 3s\n",
      "   850K .......... .......... .......... .......... .......... 13% 12.8M 3s\n",
      "   900K .......... .......... .......... .......... .......... 13% 11.3M 3s\n",
      "   950K .......... .......... .......... .......... .......... 14% 11.6M 3s\n",
      "  1000K .......... .......... .......... .......... .......... 15% 3.97M 2s\n",
      "  1050K .......... .......... .......... .......... .......... 15% 10.4M 2s\n",
      "  1100K .......... .......... .......... .......... .......... 16% 4.33M 2s\n",
      "  1150K .......... .......... .......... .......... .......... 17% 11.3M 2s\n",
      "  1200K .......... .......... .......... .......... .......... 18% 2.45M 2s\n",
      "  1250K .......... .......... .......... .......... .......... 18%  123M 2s\n",
      "  1300K .......... .......... .......... .......... .......... 19% 6.00M 2s\n",
      "  1350K .......... .......... .......... .......... .......... 20% 13.2M 2s\n",
      "  1400K .......... .......... .......... .......... .......... 20% 3.22M 2s\n",
      "  1450K .......... .......... .......... .......... .......... 21% 28.4M 2s\n",
      "  1500K .......... .......... .......... .......... .......... 22% 21.1M 2s\n",
      "  1550K .......... .......... .......... .......... .......... 23% 5.64M 2s\n",
      "  1600K .......... .......... .......... .......... .......... 23% 10.9M 2s\n",
      "  1650K .......... .......... .......... .......... .......... 24% 4.44M 2s\n",
      "  1700K .......... .......... .......... .......... .......... 25% 67.1M 2s\n",
      "  1750K .......... .......... .......... .......... .......... 26% 8.04M 2s\n",
      "  1800K .......... .......... .......... .......... .......... 26%  318K 2s\n",
      "  1850K .......... .......... .......... .......... .......... 27% 50.8M 2s\n",
      "  1900K .......... .......... .......... .......... .......... 28%  120M 2s\n",
      "  1950K .......... .......... .......... .......... .......... 28%  166M 2s\n",
      "  2000K .......... .......... .......... .......... .......... 29% 60.0M 2s\n",
      "  2050K .......... .......... .......... .......... .......... 30% 89.1M 2s\n",
      "  2100K .......... .......... .......... .......... .......... 31%  124M 2s\n",
      "  2150K .......... .......... .......... .......... .......... 31%  130M 2s\n",
      "  2200K .......... .......... .......... .......... .......... 32%  103M 1s\n",
      "  2250K .......... .......... .......... .......... .......... 33% 97.4M 1s\n",
      "  2300K .......... .......... .......... .......... .......... 33%  103M 1s\n",
      "  2350K .......... .......... .......... .......... .......... 34%  112M 1s\n",
      "  2400K .......... .......... .......... .......... .......... 35% 94.7M 1s\n",
      "  2450K .......... .......... .......... .......... .......... 36%  136M 1s\n",
      "  2500K .......... .......... .......... .......... .......... 36%  146M 1s\n",
      "  2550K .......... .......... .......... .......... .......... 37% 29.6M 1s\n",
      "  2600K .......... .......... .......... .......... .......... 38%  122M 1s\n",
      "  2650K .......... .......... .......... .......... .......... 39%  148M 1s\n",
      "  2700K .......... .......... .......... .......... .......... 39%  298M 1s\n",
      "  2750K .......... .......... .......... .......... .......... 40%  131M 1s\n",
      "  2800K .......... .......... .......... .......... .......... 41%  101M 1s\n",
      "  2850K .......... .......... .......... .......... .......... 41% 31.6M 1s\n",
      "  2900K .......... .......... .......... .......... .......... 42% 5.85M 1s\n",
      "  2950K .......... .......... .......... .......... .......... 43%  854K 1s\n",
      "  3000K .......... .......... .......... .......... .......... 44% 4.98M 1s\n",
      "  3050K .......... .......... .......... .......... .......... 44% 71.6M 1s\n",
      "  3100K .......... .......... .......... .......... .......... 45% 17.8M 1s\n",
      "  3150K .......... .......... .......... .......... .......... 46% 21.8M 1s\n",
      "  3200K .......... .......... .......... .......... .......... 47%  169M 1s\n",
      "  3250K .......... .......... .......... .......... .......... 47% 9.73M 1s\n",
      "  3300K .......... .......... .......... .......... .......... 48% 99.8M 1s\n",
      "  3350K .......... .......... .......... .......... .......... 49% 52.7M 1s\n",
      "  3400K .......... .......... .......... .......... .......... 49% 2.56M 1s\n",
      "  3450K .......... .......... .......... .......... .......... 50% 50.0M 1s\n",
      "  3500K .......... .......... .......... .......... .......... 51% 53.7M 1s\n",
      "  3550K .......... .......... .......... .......... .......... 52% 90.7M 1s\n",
      "  3600K .......... .......... .......... .......... .......... 52% 64.9M 1s\n",
      "  3650K .......... .......... .......... .......... .......... 53% 83.5M 1s\n",
      "  3700K .......... .......... .......... .......... .......... 54% 5.59M 1s\n",
      "  3750K .......... .......... .......... .......... .......... 54% 34.4M 1s\n",
      "  3800K .......... .......... .......... .......... .......... 55% 7.13M 1s\n",
      "  3850K .......... .......... .......... .......... .......... 56% 12.8M 1s\n",
      "  3900K .......... .......... .......... .......... .......... 57% 11.4M 1s\n",
      "  3950K .......... .......... .......... .......... .......... 57% 13.1M 1s\n",
      "  4000K .......... .......... .......... .......... .......... 58% 8.91M 1s\n",
      "  4050K .......... .......... .......... .......... .......... 59% 5.55M 1s\n",
      "  4100K .......... .......... .......... .......... .......... 60% 11.5M 1s\n",
      "  4150K .......... .......... .......... .......... .......... 60% 5.10M 1s\n",
      "  4200K .......... .......... .......... .......... .......... 61% 4.41M 1s\n",
      "  4250K .......... .......... .......... .......... .......... 62% 11.1M 1s\n",
      "  4300K .......... .......... .......... .......... .......... 62% 5.52M 1s\n",
      "  4350K .......... .......... .......... .......... .......... 63% 6.36M 1s\n",
      "  4400K .......... .......... .......... .......... .......... 64% 9.53M 1s\n",
      "  4450K .......... .......... .......... .......... .......... 65% 5.61M 0s\n",
      "  4500K .......... .......... .......... .......... .......... 65% 31.2M 0s\n",
      "  4550K .......... .......... .......... .......... .......... 66% 13.3M 0s\n",
      "  4600K .......... .......... .......... .......... .......... 67% 6.10M 0s\n",
      "  4650K .......... .......... .......... .......... .......... 67% 11.6M 0s\n",
      "  4700K .......... .......... .......... .......... .......... 68% 4.33M 0s\n",
      "  4750K .......... .......... .......... .......... .......... 69% 48.1M 0s\n",
      "  4800K .......... .......... .......... .......... .......... 70% 14.2M 0s\n",
      "  4850K .......... .......... .......... .......... .......... 70% 6.80M 0s\n",
      "  4900K .......... .......... .......... .......... .......... 71% 4.45M 0s\n",
      "  4950K .......... .......... .......... .......... .......... 72% 5.71M 0s\n",
      "  5000K .......... .......... .......... .......... .......... 73% 9.13M 0s\n",
      "  5050K .......... .......... .......... .......... .......... 73% 8.82M 0s\n",
      "  5100K .......... .......... .......... .......... .......... 74% 9.75M 0s\n",
      "  5150K .......... .......... .......... .......... .......... 75% 7.70M 0s\n",
      "  5200K .......... .......... .......... .......... .......... 75% 2.94M 0s\n",
      "  5250K .......... .......... .......... .......... .......... 76% 48.9M 0s\n",
      "  5300K .......... .......... .......... .......... .......... 77%  601K 0s\n",
      "  5350K .......... .......... .......... .......... .......... 78% 54.1M 0s\n",
      "  5400K .......... .......... .......... .......... .......... 78% 44.7M 0s\n",
      "  5450K .......... .......... .......... .......... .......... 79%  128M 0s\n",
      "  5500K .......... .......... .......... .......... .......... 80% 13.5M 0s\n",
      "  5550K .......... .......... .......... .......... .......... 81% 6.87M 0s\n",
      "  5600K .......... .......... .......... .......... .......... 81% 7.64M 0s\n",
      "  5650K .......... .......... .......... .......... .......... 82% 8.77M 0s\n",
      "  5700K .......... .......... .......... .......... .......... 83%  119M 0s\n",
      "  5750K .......... .......... .......... .......... .......... 83%  117M 0s\n",
      "  5800K .......... .......... .......... .......... .......... 84%  121M 0s\n",
      "  5850K .......... .......... .......... .......... .......... 85%  102M 0s\n",
      "  5900K .......... .......... .......... .......... .......... 86%  107M 0s\n",
      "  5950K .......... .......... .......... .......... .......... 86%  135M 0s\n",
      "  6000K .......... .......... .......... .......... .......... 87% 18.9M 0s\n",
      "  6050K .......... .......... .......... .......... .......... 88% 11.3M 0s\n",
      "  6100K .......... .......... .......... .......... .......... 88% 3.36M 0s\n",
      "  6150K .......... .......... .......... .......... .......... 89% 44.2M 0s\n",
      "  6200K .......... .......... .......... .......... .......... 90% 23.3M 0s\n",
      "  6250K .......... .......... .......... .......... .......... 91% 3.79M 0s\n",
      "  6300K .......... .......... .......... .......... .......... 91% 13.8M 0s\n",
      "  6350K .......... .......... .......... .......... .......... 92% 3.93M 0s\n",
      "  6400K .......... .......... .......... .......... .......... 93% 8.18M 0s\n",
      "  6450K .......... .......... .......... .......... .......... 94% 8.98M 0s\n",
      "  6500K .......... .......... .......... .......... .......... 94% 6.14M 0s\n",
      "  6550K .......... .......... .......... .......... .......... 95% 10.5M 0s\n",
      "  6600K .......... .......... .......... .......... .......... 96% 6.61M 0s\n",
      "  6650K .......... .......... .......... .......... .......... 96%  964K 0s\n",
      "  6700K .......... .......... .......... .......... .......... 97% 73.0M 0s\n",
      "  6750K .......... .......... .......... .......... .......... 98% 8.63M 0s\n",
      "  6800K .......... .......... .......... .......... .......... 99% 13.2M 0s\n",
      "  6850K .......... .......... .......... .......... .......... 99%  186M 0s\n",
      "  6900K .......... ..                                         100%  238M=1.3s\n",
      "\n",
      "2021-10-19 22:22:37 (5.25 MB/s) - 'AB_NYC_2019.csv' saved [7077973/7077973]\n",
      "\n"
     ]
    }
   ],
   "source": [
    "!wget https://raw.githubusercontent.com/alexeygrigorev/datasets/master/AB_NYC_2019.csv"
   ]
  },
  {
   "cell_type": "code",
   "execution_count": 3,
   "metadata": {},
   "outputs": [],
   "source": [
    "columns = [\n",
    "    'neighbourhood_group', 'room_type', 'latitude', 'longitude',\n",
    "    'minimum_nights', 'number_of_reviews','reviews_per_month',\n",
    "    'calculated_host_listings_count', 'availability_365',\n",
    "    'price'\n",
    "]\n",
    "\n",
    "df = pd.read_csv('AB_NYC_2019.csv', usecols=columns)\n",
    "df.reviews_per_month = df.reviews_per_month.fillna(0)"
   ]
  },
  {
   "cell_type": "markdown",
   "metadata": {},
   "source": [
    "* Apply the log tranform to `price`\n",
    "* Do train/validation/test split with 60%/20%/20% distribution. \n",
    "* Use the `train_test_split` function and set the `random_state` parameter to 1"
   ]
  },
  {
   "cell_type": "code",
   "execution_count": 4,
   "metadata": {},
   "outputs": [
    {
     "data": {
      "text/html": [
       "<div>\n",
       "<style scoped>\n",
       "    .dataframe tbody tr th:only-of-type {\n",
       "        vertical-align: middle;\n",
       "    }\n",
       "\n",
       "    .dataframe tbody tr th {\n",
       "        vertical-align: top;\n",
       "    }\n",
       "\n",
       "    .dataframe thead th {\n",
       "        text-align: right;\n",
       "    }\n",
       "</style>\n",
       "<table border=\"1\" class=\"dataframe\">\n",
       "  <thead>\n",
       "    <tr style=\"text-align: right;\">\n",
       "      <th></th>\n",
       "      <th>neighbourhood_group</th>\n",
       "      <th>latitude</th>\n",
       "      <th>longitude</th>\n",
       "      <th>room_type</th>\n",
       "      <th>price</th>\n",
       "      <th>minimum_nights</th>\n",
       "      <th>number_of_reviews</th>\n",
       "      <th>reviews_per_month</th>\n",
       "      <th>calculated_host_listings_count</th>\n",
       "      <th>availability_365</th>\n",
       "    </tr>\n",
       "  </thead>\n",
       "  <tbody>\n",
       "    <tr>\n",
       "      <th>0</th>\n",
       "      <td>Brooklyn</td>\n",
       "      <td>40.64749</td>\n",
       "      <td>-73.97237</td>\n",
       "      <td>Private room</td>\n",
       "      <td>149</td>\n",
       "      <td>1</td>\n",
       "      <td>9</td>\n",
       "      <td>0.21</td>\n",
       "      <td>6</td>\n",
       "      <td>365</td>\n",
       "    </tr>\n",
       "    <tr>\n",
       "      <th>1</th>\n",
       "      <td>Manhattan</td>\n",
       "      <td>40.75362</td>\n",
       "      <td>-73.98377</td>\n",
       "      <td>Entire home/apt</td>\n",
       "      <td>225</td>\n",
       "      <td>1</td>\n",
       "      <td>45</td>\n",
       "      <td>0.38</td>\n",
       "      <td>2</td>\n",
       "      <td>355</td>\n",
       "    </tr>\n",
       "    <tr>\n",
       "      <th>2</th>\n",
       "      <td>Manhattan</td>\n",
       "      <td>40.80902</td>\n",
       "      <td>-73.94190</td>\n",
       "      <td>Private room</td>\n",
       "      <td>150</td>\n",
       "      <td>3</td>\n",
       "      <td>0</td>\n",
       "      <td>0.00</td>\n",
       "      <td>1</td>\n",
       "      <td>365</td>\n",
       "    </tr>\n",
       "    <tr>\n",
       "      <th>3</th>\n",
       "      <td>Brooklyn</td>\n",
       "      <td>40.68514</td>\n",
       "      <td>-73.95976</td>\n",
       "      <td>Entire home/apt</td>\n",
       "      <td>89</td>\n",
       "      <td>1</td>\n",
       "      <td>270</td>\n",
       "      <td>4.64</td>\n",
       "      <td>1</td>\n",
       "      <td>194</td>\n",
       "    </tr>\n",
       "    <tr>\n",
       "      <th>4</th>\n",
       "      <td>Manhattan</td>\n",
       "      <td>40.79851</td>\n",
       "      <td>-73.94399</td>\n",
       "      <td>Entire home/apt</td>\n",
       "      <td>80</td>\n",
       "      <td>10</td>\n",
       "      <td>9</td>\n",
       "      <td>0.10</td>\n",
       "      <td>1</td>\n",
       "      <td>0</td>\n",
       "    </tr>\n",
       "  </tbody>\n",
       "</table>\n",
       "</div>"
      ],
      "text/plain": [
       "  neighbourhood_group  latitude  longitude        room_type  price  \\\n",
       "0            Brooklyn  40.64749  -73.97237     Private room    149   \n",
       "1           Manhattan  40.75362  -73.98377  Entire home/apt    225   \n",
       "2           Manhattan  40.80902  -73.94190     Private room    150   \n",
       "3            Brooklyn  40.68514  -73.95976  Entire home/apt     89   \n",
       "4           Manhattan  40.79851  -73.94399  Entire home/apt     80   \n",
       "\n",
       "   minimum_nights  number_of_reviews  reviews_per_month  \\\n",
       "0               1                  9               0.21   \n",
       "1               1                 45               0.38   \n",
       "2               3                  0               0.00   \n",
       "3               1                270               4.64   \n",
       "4              10                  9               0.10   \n",
       "\n",
       "   calculated_host_listings_count  availability_365  \n",
       "0                               6               365  \n",
       "1                               2               355  \n",
       "2                               1               365  \n",
       "3                               1               194  \n",
       "4                               1                 0  "
      ]
     },
     "execution_count": 4,
     "metadata": {},
     "output_type": "execute_result"
    }
   ],
   "source": [
    "df.head()"
   ]
  },
  {
   "cell_type": "code",
   "execution_count": 5,
   "metadata": {},
   "outputs": [
    {
     "data": {
      "text/plain": [
       "(48895, 10)"
      ]
     },
     "execution_count": 5,
     "metadata": {},
     "output_type": "execute_result"
    }
   ],
   "source": [
    "df.shape"
   ]
  },
  {
   "cell_type": "code",
   "execution_count": 6,
   "metadata": {},
   "outputs": [
    {
     "data": {
      "text/plain": [
       "count    48895.000000\n",
       "mean       152.720687\n",
       "std        240.154170\n",
       "min          0.000000\n",
       "25%         69.000000\n",
       "50%        106.000000\n",
       "75%        175.000000\n",
       "max      10000.000000\n",
       "Name: price, dtype: float64"
      ]
     },
     "execution_count": 6,
     "metadata": {},
     "output_type": "execute_result"
    }
   ],
   "source": [
    "df.price.describe()"
   ]
  },
  {
   "cell_type": "code",
   "execution_count": 7,
   "metadata": {},
   "outputs": [
    {
     "data": {
      "image/png": "[encoded data removed]",
      "text/plain": [
       "<Figure size 1080x432 with 1 Axes>"
      ]
     },
     "metadata": {
      "needs_background": "light"
     },
     "output_type": "display_data"
    }
   ],
   "source": [
    "plt.figure(figsize=(15, 6))\n",
    "plt.hist(df.price, bins = 100);"
   ]
  },
  {
   "cell_type": "raw",
   "metadata": {},
   "source": [
    "'price' variable is right skewed with a very long tail."
   ]
  },
  {
   "cell_type": "code",
   "execution_count": 8,
   "metadata": {},
   "outputs": [
    {
     "data": {
      "image/png": "[encoded data removed]",
      "text/plain": [
       "<Figure size 720x432 with 1 Axes>"
      ]
     },
     "metadata": {
      "needs_background": "light"
     },
     "output_type": "display_data"
    }
   ],
   "source": [
    "plt.figure(figsize = (10, 6))\n",
    "sns.histplot(np.log1p(df.price), bins = 50);"
   ]
  },
  {
   "cell_type": "code",
   "execution_count": 9,
   "metadata": {},
   "outputs": [],
   "source": [
    "df_full_train, df_test = train_test_split(df, test_size = 0.2, random_state = 1)\n",
    "df_train, df_val = train_test_split(df_full_train, test_size = 0.25, random_state = 1)"
   ]
  },
  {
   "cell_type": "code",
   "execution_count": 10,
   "metadata": {},
   "outputs": [],
   "source": [
    "df_train = df_train.reset_index(drop=True)\n",
    "df_val = df_val.reset_index(drop=True)\n",
    "df_test = df_test.reset_index(drop=True)\n",
    "\n",
    "y_train = np.log1p(df_train.price.values)\n",
    "y_val = np.log1p(df_val.price.values)\n",
    "y_test = np.log1p(df_test.price.values)\n",
    "\n",
    "del df_train['price']   \n",
    "del df_val['price']\n",
    "del df_test['price']"
   ]
  },
  {
   "cell_type": "code",
   "execution_count": 11,
   "metadata": {},
   "outputs": [
    {
     "name": "stdout",
     "output_type": "stream",
     "text": [
      "29337 9779 9779 29337 9779 9779\n"
     ]
    }
   ],
   "source": [
    "print(len(df_train), len(df_val), len(df_test), len(y_train), len(y_val), len(y_test))"
   ]
  },
  {
   "cell_type": "code",
   "execution_count": null,
   "metadata": {},
   "outputs": [],
   "source": []
  },
  {
   "cell_type": "markdown",
   "metadata": {},
   "source": [
    "Now, use `DictVectorizer` to turn train and validation into matrices:"
   ]
  },
  {
   "cell_type": "code",
   "execution_count": 13,
   "metadata": {},
   "outputs": [],
   "source": [
    "train_dicts = df_train.to_dict(orient='records')"
   ]
  },
  {
   "cell_type": "code",
   "execution_count": 14,
   "metadata": {},
   "outputs": [],
   "source": [
    "dv = DictVectorizer(sparse=False)"
   ]
  },
  {
   "cell_type": "code",
   "execution_count": 15,
   "metadata": {},
   "outputs": [],
   "source": [
    "X_train = dv.fit_transform(train_dicts)"
   ]
  },
  {
   "cell_type": "code",
   "execution_count": 16,
   "metadata": {},
   "outputs": [],
   "source": [
    "val_dicts = df_val.to_dict(orient='records')"
   ]
  },
  {
   "cell_type": "code",
   "execution_count": 17,
   "metadata": {},
   "outputs": [],
   "source": [
    "X_val = dv.transform(val_dicts)"
   ]
  },
  {
   "cell_type": "code",
   "execution_count": 18,
   "metadata": {},
   "outputs": [
    {
     "data": {
      "text/plain": [
       "(29337, 15)"
      ]
     },
     "execution_count": 18,
     "metadata": {},
     "output_type": "execute_result"
    }
   ],
   "source": [
    "X_train.shape"
   ]
  },
  {
   "cell_type": "code",
   "execution_count": 19,
   "metadata": {},
   "outputs": [
    {
     "data": {
      "text/plain": [
       "(9779, 15)"
      ]
     },
     "execution_count": 19,
     "metadata": {},
     "output_type": "execute_result"
    }
   ],
   "source": [
    "X_val.shape"
   ]
  },
  {
   "cell_type": "markdown",
   "metadata": {},
   "source": [
    "## Question 1\n",
    "\n",
    "Let's train a decision tree regressor to predict the price variable. \n",
    "\n",
    "* Train a model with `max_depth=1`"
   ]
  },
  {
   "cell_type": "code",
   "execution_count": 20,
   "metadata": {},
   "outputs": [
    {
     "data": {
      "text/plain": [
       "DecisionTreeRegressor(max_depth=1)"
      ]
     },
     "execution_count": 20,
     "metadata": {},
     "output_type": "execute_result"
    }
   ],
   "source": [
    "regressor = DecisionTreeRegressor(max_depth=1)\n",
    "regressor.fit(X_train, y_train)"
   ]
  },
  {
   "cell_type": "code",
   "execution_count": 21,
   "metadata": {},
   "outputs": [],
   "source": [
    "y_pred = regressor.predict(X_val)"
   ]
  },
  {
   "cell_type": "code",
   "execution_count": 22,
   "metadata": {},
   "outputs": [
    {
     "name": "stdout",
     "output_type": "stream",
     "text": [
      "|--- room_type=Entire home/apt <= 0.50\n",
      "|   |--- value: [4.29]\n",
      "|--- room_type=Entire home/apt >  0.50\n",
      "|   |--- value: [5.15]\n",
      "\n"
     ]
    }
   ],
   "source": [
    "text_rep = export_text(regressor, feature_names=dv.get_feature_names())\n",
    "print(text_rep)"
   ]
  },
  {
   "cell_type": "markdown",
   "metadata": {},
   "source": [
    "Which feature is used for splitting the data?\n",
    "\n",
    "* `room_type`\n",
    "* `neighbourhood_group`\n",
    "* `number_of_reviews`\n",
    "* `reviews_per_month`"
   ]
  },
  {
   "cell_type": "markdown",
   "metadata": {},
   "source": [
    "Answer: 'room_type' is used for splitting the data when max_depth = 1 (decision stump)."
   ]
  },
  {
   "cell_type": "markdown",
   "metadata": {},
   "source": [
    "## Question 2\n",
    "\n",
    "Train a random forest model with these parameters:\n",
    "\n",
    "* `n_estimators=10`\n",
    "* `random_state=1`\n",
    "* `n_jobs=-1`  (optional - to make training faster)"
   ]
  },
  {
   "cell_type": "code",
   "execution_count": 23,
   "metadata": {},
   "outputs": [
    {
     "data": {
      "text/plain": [
       "RandomForestRegressor(n_estimators=10, n_jobs=-1, random_state=1)"
      ]
     },
     "execution_count": 23,
     "metadata": {},
     "output_type": "execute_result"
    }
   ],
   "source": [
    "rf = RandomForestRegressor(n_estimators=10, \n",
    "                           random_state=1, \n",
    "                           n_jobs=-1)\n",
    "rf.fit(X_train, y_train)"
   ]
  },
  {
   "cell_type": "code",
   "execution_count": 24,
   "metadata": {},
   "outputs": [],
   "source": [
    "y_pred = rf.predict(X_val)"
   ]
  },
  {
   "cell_type": "code",
   "execution_count": 25,
   "metadata": {},
   "outputs": [
    {
     "name": "stdout",
     "output_type": "stream",
     "text": [
      "Root Mean Squared Error: 0.4615632303514057\n"
     ]
    }
   ],
   "source": [
    "print('Root Mean Squared Error:', np.sqrt(metrics.mean_squared_error(y_val, y_pred)))"
   ]
  },
  {
   "cell_type": "markdown",
   "metadata": {},
   "source": [
    "What's the RMSE of this model on validation?\n",
    "\n",
    "* 0.059\n",
    "* 0.259\n",
    "* 0.459\n",
    "* 0.659"
   ]
  },
  {
   "cell_type": "markdown",
   "metadata": {},
   "source": [
    "Answer: 0.459 (closest to my calculation 0.461)"
   ]
  },
  {
   "cell_type": "markdown",
   "metadata": {},
   "source": [
    "## Question 3\n",
    "\n",
    "Now let's experiment with the `n_estimators` parameter\n",
    "\n",
    "* Try different values of this parameter from 10 to 200 with step 10\n",
    "* Set `random_state` to `1`\n",
    "* Evaluate the model on the validation dataset"
   ]
  },
  {
   "cell_type": "code",
   "execution_count": 26,
   "metadata": {},
   "outputs": [
    {
     "data": {
      "text/plain": [
       "array([ 10,  20,  30,  40,  50,  60,  70,  80,  90, 100, 110, 120, 130,\n",
       "       140, 150, 160, 170, 180, 190, 200])"
      ]
     },
     "execution_count": 26,
     "metadata": {},
     "output_type": "execute_result"
    }
   ],
   "source": [
    "n_estimators_range = np.arange(10, 201, 10)\n",
    "n_estimators_range"
   ]
  },
  {
   "cell_type": "code",
   "execution_count": 27,
   "metadata": {},
   "outputs": [],
   "source": [
    "scores = []\n",
    "\n",
    "for n in n_estimators_range:\n",
    "    \n",
    "    rf = RandomForestRegressor(n_estimators=n, \n",
    "                               random_state=1, \n",
    "                               n_jobs=-1)\n",
    "    rf.fit(X_train, y_train)\n",
    "    \n",
    "    y_pred = rf.predict(X_val)\n",
    "    rmse = np.sqrt(metrics.mean_squared_error(y_val, y_pred))\n",
    "    scores.append((n, rmse))"
   ]
  },
  {
   "cell_type": "code",
   "execution_count": 28,
   "metadata": {},
   "outputs": [
    {
     "data": {
      "text/plain": [
       "[(10, 0.4615632303514057),\n",
       " (20, 0.4481844037246563),\n",
       " (30, 0.445534982591036),\n",
       " (40, 0.4436370400686574),\n",
       " (50, 0.4423252158693789),\n",
       " (60, 0.4416390063083674),\n",
       " (70, 0.4412400708145094),\n",
       " (80, 0.4411253881867737),\n",
       " (90, 0.44055067262951675),\n",
       " (100, 0.4399734361245008),\n",
       " (110, 0.43947286054175283),\n",
       " (120, 0.43923581828746266),\n",
       " (130, 0.4393024606141518),\n",
       " (140, 0.4390088112588317),\n",
       " (150, 0.4389016090216187),\n",
       " (160, 0.438700402552987),\n",
       " (170, 0.4386273317291687),\n",
       " (180, 0.43876507353873545),\n",
       " (190, 0.4387232276613794),\n",
       " (200, 0.4387504763480828)]"
      ]
     },
     "execution_count": 28,
     "metadata": {},
     "output_type": "execute_result"
    }
   ],
   "source": [
    "scores"
   ]
  },
  {
   "cell_type": "code",
   "execution_count": 29,
   "metadata": {},
   "outputs": [
    {
     "data": {
      "text/html": [
       "<div>\n",
       "<style scoped>\n",
       "    .dataframe tbody tr th:only-of-type {\n",
       "        vertical-align: middle;\n",
       "    }\n",
       "\n",
       "    .dataframe tbody tr th {\n",
       "        vertical-align: top;\n",
       "    }\n",
       "\n",
       "    .dataframe thead th {\n",
       "        text-align: right;\n",
       "    }\n",
       "</style>\n",
       "<table border=\"1\" class=\"dataframe\">\n",
       "  <thead>\n",
       "    <tr style=\"text-align: right;\">\n",
       "      <th></th>\n",
       "      <th>n_estimators</th>\n",
       "      <th>RMSE</th>\n",
       "    </tr>\n",
       "  </thead>\n",
       "  <tbody>\n",
       "    <tr>\n",
       "      <th>0</th>\n",
       "      <td>10</td>\n",
       "      <td>0.461563</td>\n",
       "    </tr>\n",
       "    <tr>\n",
       "      <th>1</th>\n",
       "      <td>20</td>\n",
       "      <td>0.448184</td>\n",
       "    </tr>\n",
       "    <tr>\n",
       "      <th>2</th>\n",
       "      <td>30</td>\n",
       "      <td>0.445535</td>\n",
       "    </tr>\n",
       "    <tr>\n",
       "      <th>3</th>\n",
       "      <td>40</td>\n",
       "      <td>0.443637</td>\n",
       "    </tr>\n",
       "    <tr>\n",
       "      <th>4</th>\n",
       "      <td>50</td>\n",
       "      <td>0.442325</td>\n",
       "    </tr>\n",
       "    <tr>\n",
       "      <th>5</th>\n",
       "      <td>60</td>\n",
       "      <td>0.441639</td>\n",
       "    </tr>\n",
       "    <tr>\n",
       "      <th>6</th>\n",
       "      <td>70</td>\n",
       "      <td>0.441240</td>\n",
       "    </tr>\n",
       "    <tr>\n",
       "      <th>7</th>\n",
       "      <td>80</td>\n",
       "      <td>0.441125</td>\n",
       "    </tr>\n",
       "    <tr>\n",
       "      <th>8</th>\n",
       "      <td>90</td>\n",
       "      <td>0.440551</td>\n",
       "    </tr>\n",
       "    <tr>\n",
       "      <th>9</th>\n",
       "      <td>100</td>\n",
       "      <td>0.439973</td>\n",
       "    </tr>\n",
       "    <tr>\n",
       "      <th>10</th>\n",
       "      <td>110</td>\n",
       "      <td>0.439473</td>\n",
       "    </tr>\n",
       "    <tr>\n",
       "      <th>11</th>\n",
       "      <td>120</td>\n",
       "      <td>0.439236</td>\n",
       "    </tr>\n",
       "    <tr>\n",
       "      <th>12</th>\n",
       "      <td>130</td>\n",
       "      <td>0.439302</td>\n",
       "    </tr>\n",
       "    <tr>\n",
       "      <th>13</th>\n",
       "      <td>140</td>\n",
       "      <td>0.439009</td>\n",
       "    </tr>\n",
       "    <tr>\n",
       "      <th>14</th>\n",
       "      <td>150</td>\n",
       "      <td>0.438902</td>\n",
       "    </tr>\n",
       "    <tr>\n",
       "      <th>15</th>\n",
       "      <td>160</td>\n",
       "      <td>0.438700</td>\n",
       "    </tr>\n",
       "    <tr>\n",
       "      <th>16</th>\n",
       "      <td>170</td>\n",
       "      <td>0.438627</td>\n",
       "    </tr>\n",
       "    <tr>\n",
       "      <th>17</th>\n",
       "      <td>180</td>\n",
       "      <td>0.438765</td>\n",
       "    </tr>\n",
       "    <tr>\n",
       "      <th>18</th>\n",
       "      <td>190</td>\n",
       "      <td>0.438723</td>\n",
       "    </tr>\n",
       "    <tr>\n",
       "      <th>19</th>\n",
       "      <td>200</td>\n",
       "      <td>0.438750</td>\n",
       "    </tr>\n",
       "  </tbody>\n",
       "</table>\n",
       "</div>"
      ],
      "text/plain": [
       "    n_estimators      RMSE\n",
       "0             10  0.461563\n",
       "1             20  0.448184\n",
       "2             30  0.445535\n",
       "3             40  0.443637\n",
       "4             50  0.442325\n",
       "5             60  0.441639\n",
       "6             70  0.441240\n",
       "7             80  0.441125\n",
       "8             90  0.440551\n",
       "9            100  0.439973\n",
       "10           110  0.439473\n",
       "11           120  0.439236\n",
       "12           130  0.439302\n",
       "13           140  0.439009\n",
       "14           150  0.438902\n",
       "15           160  0.438700\n",
       "16           170  0.438627\n",
       "17           180  0.438765\n",
       "18           190  0.438723\n",
       "19           200  0.438750"
      ]
     },
     "execution_count": 29,
     "metadata": {},
     "output_type": "execute_result"
    }
   ],
   "source": [
    "df_score = pd.DataFrame(scores, columns = ['n_estimators', 'RMSE'])\n",
    "df_score"
   ]
  },
  {
   "cell_type": "code",
   "execution_count": 30,
   "metadata": {},
   "outputs": [
    {
     "data": {
      "text/plain": [
       "[<matplotlib.lines.Line2D at 0x1e626c915b0>]"
      ]
     },
     "execution_count": 30,
     "metadata": {},
     "output_type": "execute_result"
    },
    {
     "data": {
      "image/png": "[encoded data removed]",
      "text/plain": [
       "<Figure size 720x576 with 1 Axes>"
      ]
     },
     "metadata": {
      "needs_background": "light"
     },
     "output_type": "display_data"
    }
   ],
   "source": [
    "plt.figure(figsize = (10, 8))\n",
    "plt.plot(df_score.n_estimators, df_score.RMSE)"
   ]
  },
  {
   "cell_type": "markdown",
   "metadata": {},
   "source": [
    "After which value of `n_estimators` does RMSE stop improving?\n",
    "\n",
    "- 10\n",
    "- 50\n",
    "- 70\n",
    "- 120"
   ]
  },
  {
   "cell_type": "markdown",
   "metadata": {},
   "source": [
    "Answer: When n_estimators is around 120 that RMSE stops improving as the graph shows."
   ]
  },
  {
   "cell_type": "markdown",
   "metadata": {},
   "source": [
    "## Question 4\n",
    "\n",
    "Let's select the best `max_depth`:\n",
    "\n",
    "* Try different values of `max_depth`: `[10, 15, 20, 25]`\n",
    "* For each of these values, try different values of `n_estimators` from 10 till 200 (with step 10)\n",
    "* Fix the random seed: `random_state=1`"
   ]
  },
  {
   "cell_type": "code",
   "execution_count": 31,
   "metadata": {},
   "outputs": [],
   "source": [
    "scores = []"
   ]
  },
  {
   "cell_type": "code",
   "execution_count": 32,
   "metadata": {},
   "outputs": [],
   "source": [
    "for d in [10, 15, 20, 25]:\n",
    "    for n in range(10, 201, 10):\n",
    "\n",
    "        rf = RandomForestRegressor(n_estimators=n,\n",
    "                                   max_depth = d,\n",
    "                                   random_state=1,\n",
    "                                   n_jobs = -1)\n",
    "        rf.fit(X_train, y_train)\n",
    "\n",
    "        y_pred = rf.predict(X_val)\n",
    "        rmse = np.sqrt(metrics.mean_squared_error(y_val, y_pred))\n",
    "        scores.append((n, d, rmse))"
   ]
  },
  {
   "cell_type": "code",
   "execution_count": 33,
   "metadata": {},
   "outputs": [
    {
     "data": {
      "text/plain": [
       "[(10, 10, 0.44555264855924354),\n",
       " (20, 10, 0.4420087608705588),\n",
       " (30, 10, 0.4413808076445009),\n",
       " (40, 10, 0.44147246709402543),\n",
       " (50, 10, 0.4410673887594955),\n",
       " (60, 10, 0.4410459421233984),\n",
       " (70, 10, 0.4407598704010177),\n",
       " (80, 10, 0.4405950365838957),\n",
       " (90, 10, 0.4403250798157756),\n",
       " (100, 10, 0.4401137602802354),\n",
       " (110, 10, 0.44002599123352587),\n",
       " (120, 10, 0.4398178667293093),\n",
       " (130, 10, 0.4398547755113232),\n",
       " (140, 10, 0.43984985853331104),\n",
       " (150, 10, 0.43969001659014506),\n",
       " (160, 10, 0.4396442598915558),\n",
       " (170, 10, 0.43962394971115537),\n",
       " (180, 10, 0.4397169310258638),\n",
       " (190, 10, 0.4396683937380781),\n",
       " (200, 10, 0.43967858051302805),\n",
       " (10, 15, 0.45014955224590053),\n",
       " (20, 15, 0.4413965306029092),\n",
       " (30, 15, 0.4398942644411996),\n",
       " (40, 15, 0.43928475526633337),\n",
       " (50, 15, 0.43835155877923293),\n",
       " (60, 15, 0.4379833031193405),\n",
       " (70, 15, 0.43745781237443004),\n",
       " (80, 15, 0.43726812528767756),\n",
       " (90, 15, 0.4368731254920105),\n",
       " (100, 15, 0.43651230928156826),\n",
       " (110, 15, 0.43628106735528754),\n",
       " (120, 15, 0.4362132475554301),\n",
       " (130, 15, 0.43628631137379764),\n",
       " (140, 15, 0.436211992518827),\n",
       " (150, 15, 0.4362256909511473),\n",
       " (160, 15, 0.4360759389159228),\n",
       " (170, 15, 0.43604736304110847),\n",
       " (180, 15, 0.4362009026058372),\n",
       " (190, 15, 0.43616751568338963),\n",
       " (200, 15, 0.436142154173459),\n",
       " (10, 20, 0.4584190912980129),\n",
       " (20, 20, 0.4459054314035954),\n",
       " (30, 20, 0.44319196966565716),\n",
       " (40, 20, 0.4417373052972195),\n",
       " (50, 20, 0.4406714060854807),\n",
       " (60, 20, 0.44006601983418375),\n",
       " (70, 20, 0.43964599939550425),\n",
       " (80, 20, 0.4396622145119831),\n",
       " (90, 20, 0.43916022683859696),\n",
       " (100, 20, 0.4387853067251267),\n",
       " (110, 20, 0.43828225408336197),\n",
       " (120, 20, 0.4380967658969889),\n",
       " (130, 20, 0.4381790275452463),\n",
       " (140, 20, 0.43795894092304327),\n",
       " (150, 20, 0.4378962431783405),\n",
       " (160, 20, 0.4377494217873557),\n",
       " (170, 20, 0.43760990729695737),\n",
       " (180, 20, 0.43766660438488314),\n",
       " (190, 20, 0.43758701284695295),\n",
       " (200, 20, 0.4376092495496493),\n",
       " (10, 25, 0.4609391142619028),\n",
       " (20, 25, 0.4472195089303131),\n",
       " (30, 25, 0.4445239573491947),\n",
       " (40, 25, 0.44309466013646537),\n",
       " (50, 25, 0.4422777416037507),\n",
       " (60, 25, 0.44152111429954993),\n",
       " (70, 25, 0.4410272347700826),\n",
       " (80, 25, 0.44090704297916994),\n",
       " (90, 25, 0.4403296436262334),\n",
       " (100, 25, 0.439898479955878),\n",
       " (110, 25, 0.43947683384868624),\n",
       " (120, 25, 0.43924312399404186),\n",
       " (130, 25, 0.439285569059559),\n",
       " (140, 25, 0.43902660807710686),\n",
       " (150, 25, 0.4389835049281224),\n",
       " (160, 25, 0.4387688139510855),\n",
       " (170, 25, 0.4386958375952577),\n",
       " (180, 25, 0.43884783722887344),\n",
       " (190, 25, 0.43870158484924415),\n",
       " (200, 25, 0.43869448497893626)]"
      ]
     },
     "execution_count": 33,
     "metadata": {},
     "output_type": "execute_result"
    }
   ],
   "source": [
    "scores"
   ]
  },
  {
   "cell_type": "code",
   "execution_count": 34,
   "metadata": {},
   "outputs": [
    {
     "data": {
      "text/html": [
       "<div>\n",
       "<style scoped>\n",
       "    .dataframe tbody tr th:only-of-type {\n",
       "        vertical-align: middle;\n",
       "    }\n",
       "\n",
       "    .dataframe tbody tr th {\n",
       "        vertical-align: top;\n",
       "    }\n",
       "\n",
       "    .dataframe thead th {\n",
       "        text-align: right;\n",
       "    }\n",
       "</style>\n",
       "<table border=\"1\" class=\"dataframe\">\n",
       "  <thead>\n",
       "    <tr style=\"text-align: right;\">\n",
       "      <th></th>\n",
       "      <th>n_estimators</th>\n",
       "      <th>max_depth</th>\n",
       "      <th>rmse</th>\n",
       "    </tr>\n",
       "  </thead>\n",
       "  <tbody>\n",
       "    <tr>\n",
       "      <th>0</th>\n",
       "      <td>10</td>\n",
       "      <td>10</td>\n",
       "      <td>0.445553</td>\n",
       "    </tr>\n",
       "    <tr>\n",
       "      <th>1</th>\n",
       "      <td>20</td>\n",
       "      <td>10</td>\n",
       "      <td>0.442009</td>\n",
       "    </tr>\n",
       "    <tr>\n",
       "      <th>2</th>\n",
       "      <td>30</td>\n",
       "      <td>10</td>\n",
       "      <td>0.441381</td>\n",
       "    </tr>\n",
       "    <tr>\n",
       "      <th>3</th>\n",
       "      <td>40</td>\n",
       "      <td>10</td>\n",
       "      <td>0.441472</td>\n",
       "    </tr>\n",
       "    <tr>\n",
       "      <th>4</th>\n",
       "      <td>50</td>\n",
       "      <td>10</td>\n",
       "      <td>0.441067</td>\n",
       "    </tr>\n",
       "  </tbody>\n",
       "</table>\n",
       "</div>"
      ],
      "text/plain": [
       "   n_estimators  max_depth      rmse\n",
       "0            10         10  0.445553\n",
       "1            20         10  0.442009\n",
       "2            30         10  0.441381\n",
       "3            40         10  0.441472\n",
       "4            50         10  0.441067"
      ]
     },
     "execution_count": 34,
     "metadata": {},
     "output_type": "execute_result"
    }
   ],
   "source": [
    "df_scores = pd.DataFrame(scores, columns=['n_estimators', 'max_depth', 'rmse'])\n",
    "df_scores.head()"
   ]
  },
  {
   "cell_type": "code",
   "execution_count": 35,
   "metadata": {},
   "outputs": [
    {
     "data": {
      "image/png": "[encoded data removed]",
      "text/plain": [
       "<Figure size 720x504 with 1 Axes>"
      ]
     },
     "metadata": {
      "needs_background": "light"
     },
     "output_type": "display_data"
    }
   ],
   "source": [
    "plt.figure(figsize = (10, 7))\n",
    "\n",
    "for d in [10, 15, 20, 25]:\n",
    "    df_subset = df_scores[df_scores.max_depth == d]\n",
    "    plt.plot(df_subset.n_estimators, df_subset.rmse, label='max_depth=%d' % d)\n",
    "plt.legend();"
   ]
  },
  {
   "cell_type": "code",
   "execution_count": null,
   "metadata": {},
   "outputs": [],
   "source": []
  },
  {
   "cell_type": "markdown",
   "metadata": {},
   "source": [
    "What's the best `max_depth`:\n",
    "\n",
    "* 10\n",
    "* 15\n",
    "* 20\n",
    "* 25\n",
    "\n",
    "Bonus question (not graded):\n",
    "\n",
    "Will the answer be different if we change the seed for the model?"
   ]
  },
  {
   "cell_type": "markdown",
   "metadata": {},
   "source": [
    "Answer: The best max_depth is 15."
   ]
  },
  {
   "cell_type": "markdown",
   "metadata": {},
   "source": [
    "## Question 5\n",
    "\n",
    "We can extract feature importance information from tree-based models. \n",
    "\n",
    "At each step of the decision tree learning algorith, it finds the best split. \n",
    "When doint it, we can calculate \"gain\" - the reduction in impurity before and after the split. \n",
    "This gain is quite useful in understanding what are the imporatant features \n",
    "for tree-based models.\n",
    "\n",
    "In Scikit-Learn, tree-based models contain this information in the `feature_importances_` field. \n",
    "\n",
    "For this homework question, we'll find the most important feature:\n",
    "\n",
    "* Train the model with these parametes:\n",
    "    * `n_estimators=10`,\n",
    "    * `max_depth=20`,\n",
    "    * `random_state=1`,\n",
    "    * `n_jobs=-1` (optional)\n",
    "* Get the feature importance information from this model"
   ]
  },
  {
   "cell_type": "code",
   "execution_count": 36,
   "metadata": {},
   "outputs": [],
   "source": [
    "rf = RandomForestRegressor(n_estimators=10, \n",
    "                           max_depth = 20,\n",
    "                           random_state=1, \n",
    "                           n_jobs=-1)"
   ]
  },
  {
   "cell_type": "code",
   "execution_count": 37,
   "metadata": {},
   "outputs": [
    {
     "data": {
      "text/plain": [
       "RandomForestRegressor(max_depth=20, n_estimators=10, n_jobs=-1, random_state=1)"
      ]
     },
     "execution_count": 37,
     "metadata": {},
     "output_type": "execute_result"
    }
   ],
   "source": [
    "rf.fit(X_train, y_train)"
   ]
  },
  {
   "cell_type": "code",
   "execution_count": 38,
   "metadata": {},
   "outputs": [],
   "source": [
    "importance = rf.feature_importances_"
   ]
  },
  {
   "cell_type": "code",
   "execution_count": 43,
   "metadata": {},
   "outputs": [
    {
     "data": {
      "text/plain": [
       "array([7.62639474e-02, 3.01019255e-02, 1.52775354e-01, 1.54100960e-01,\n",
       "       5.32519176e-02, 2.64845849e-04, 9.65959537e-04, 3.40472718e-02,\n",
       "       1.16609902e-03, 8.40278947e-05, 4.15942415e-02, 5.44303877e-02,\n",
       "       3.91898194e-01, 4.03202776e-03, 5.02284130e-03])"
      ]
     },
     "execution_count": 43,
     "metadata": {},
     "output_type": "execute_result"
    }
   ],
   "source": [
    "importance"
   ]
  },
  {
   "cell_type": "code",
   "execution_count": 39,
   "metadata": {},
   "outputs": [
    {
     "name": "stdout",
     "output_type": "stream",
     "text": [
      "Feature: 0, Score: 0.07626\n",
      "Feature: 1, Score: 0.03010\n",
      "Feature: 2, Score: 0.15278\n",
      "Feature: 3, Score: 0.15410\n",
      "Feature: 4, Score: 0.05325\n",
      "Feature: 5, Score: 0.00026\n",
      "Feature: 6, Score: 0.00097\n",
      "Feature: 7, Score: 0.03405\n",
      "Feature: 8, Score: 0.00117\n",
      "Feature: 9, Score: 0.00008\n",
      "Feature: 10, Score: 0.04159\n",
      "Feature: 11, Score: 0.05443\n",
      "Feature: 12, Score: 0.39190\n",
      "Feature: 13, Score: 0.00403\n",
      "Feature: 14, Score: 0.00502\n"
     ]
    }
   ],
   "source": [
    "for i,v in enumerate(importance):\n",
    "    print('Feature: %0d, Score: %.5f' % (i,v))"
   ]
  },
  {
   "cell_type": "code",
   "execution_count": 42,
   "metadata": {},
   "outputs": [
    {
     "data": {
      "text/plain": [
       "['availability_365',\n",
       " 'calculated_host_listings_count',\n",
       " 'latitude',\n",
       " 'longitude',\n",
       " 'minimum_nights',\n",
       " 'neighbourhood_group=Bronx',\n",
       " 'neighbourhood_group=Brooklyn',\n",
       " 'neighbourhood_group=Manhattan',\n",
       " 'neighbourhood_group=Queens',\n",
       " 'neighbourhood_group=Staten Island',\n",
       " 'number_of_reviews',\n",
       " 'reviews_per_month',\n",
       " 'room_type=Entire home/apt',\n",
       " 'room_type=Private room',\n",
       " 'room_type=Shared room']"
      ]
     },
     "execution_count": 42,
     "metadata": {},
     "output_type": "execute_result"
    }
   ],
   "source": [
    "dv.get_feature_names()"
   ]
  },
  {
   "cell_type": "code",
   "execution_count": 40,
   "metadata": {},
   "outputs": [
    {
     "data": {
      "image/png": "[encoded data removed]",
      "text/plain": [
       "<Figure size 432x288 with 1 Axes>"
      ]
     },
     "metadata": {
      "needs_background": "light"
     },
     "output_type": "display_data"
    }
   ],
   "source": [
    "plt.bar([x for x in range(len(importance))], importance)\n",
    "plt.show()"
   ]
  },
  {
   "cell_type": "markdown",
   "metadata": {},
   "source": [
    "What's the most important feature? \n",
    "\n",
    "* `neighbourhood_group=Manhattan`\n",
    "* `room_type=Entire home/apt`\t\n",
    "* `longitude`\n",
    "* `latitude`"
   ]
  },
  {
   "cell_type": "markdown",
   "metadata": {},
   "source": [
    "The most important feature is feature 12 or 'room_type=Entire home/apt'. "
   ]
  },
  {
   "cell_type": "markdown",
   "metadata": {},
   "source": [
    "## Question 6"
   ]
  },
  {
   "cell_type": "markdown",
   "metadata": {},
   "source": [
    "Now let's train an XGBoost model! For this question, we'll tune the `eta` parameter\n",
    "\n",
    "* Install XGBoost\n",
    "* Create DMatrix for train and validation\n",
    "* Create a watchlist\n",
    "* Train a model with these parameters for 100 rounds:\n",
    "\n",
    "```\n",
    "xgb_params = {\n",
    "    'eta': 0.3, \n",
    "    'max_depth': 6,\n",
    "    'min_child_weight': 1,\n",
    "    \n",
    "    'objective': 'reg:squarederror',\n",
    "    'nthread': 8,\n",
    "    \n",
    "    'seed': 1,\n",
    "    'verbosity': 1,\n",
    "}\n",
    "```"
   ]
  },
  {
   "cell_type": "code",
   "execution_count": 44,
   "metadata": {},
   "outputs": [
    {
     "name": "stdout",
     "output_type": "stream",
     "text": [
      "Requirement already satisfied: xgboost in c:\\users\\quynh\\anaconda3\\lib\\site-packages (1.5.0)\n",
      "Requirement already satisfied: numpy in c:\\users\\quynh\\anaconda3\\lib\\site-packages (from xgboost) (1.19.2)\n",
      "Requirement already satisfied: scipy in c:\\users\\quynh\\anaconda3\\lib\\site-packages (from xgboost) (1.5.2)\n"
     ]
    }
   ],
   "source": [
    "!pip install xgboost"
   ]
  },
  {
   "cell_type": "code",
   "execution_count": 45,
   "metadata": {},
   "outputs": [],
   "source": [
    "import xgboost as xgb"
   ]
  },
  {
   "cell_type": "code",
   "execution_count": 46,
   "metadata": {},
   "outputs": [],
   "source": [
    "features = dv.get_feature_names()\n",
    "dtrain = xgb.DMatrix(X_train, label=y_train, feature_names=features)\n",
    "dval = xgb.DMatrix(X_val, label=y_val, feature_names=features)"
   ]
  },
  {
   "cell_type": "code",
   "execution_count": 47,
   "metadata": {},
   "outputs": [],
   "source": [
    "watchlist = [(dtrain, 'train'), (dval, 'val')]   "
   ]
  },
  {
   "cell_type": "code",
   "execution_count": 60,
   "metadata": {},
   "outputs": [],
   "source": [
    "scores = {}"
   ]
  },
  {
   "cell_type": "code",
   "execution_count": 70,
   "metadata": {},
   "outputs": [],
   "source": [
    "%%capture output \n",
    "\n",
    "xgb_params = {\n",
    "    'eta': 0.01,                \n",
    "    'max_depth': 6,\n",
    "    'min_child_weight': 1,\n",
    "    \n",
    "    'objective': 'reg:squarederror',\n",
    "    'nthread': 8,\n",
    "    \n",
    "    'seed': 1, \n",
    "    'verbosity': 1,            \n",
    "    \n",
    "}\n",
    "\n",
    "model = xgb.train(xgb_params, dtrain, num_boost_round=100, evals=watchlist)"
   ]
  },
  {
   "cell_type": "code",
   "execution_count": 62,
   "metadata": {},
   "outputs": [],
   "source": [
    "def parse_xgb_output(output):\n",
    "    results = []\n",
    "    \n",
    "    for line in output.stdout.strip().split('\\n'):\n",
    "        it_line, train_line, val_line = line.split('\\t')\n",
    "        \n",
    "        it = int(it_line.strip('[]'))\n",
    "        train = float(train_line.split(':')[1])\n",
    "        val = float(val_line.split(':')[1])\n",
    "        \n",
    "        results.append((it, train, val))\n",
    "    \n",
    "    columns = ['num_iter', 'train_rmse', 'val_rmse']\n",
    "    df_results = pd.DataFrame(results, columns=columns)\n",
    "        \n",
    "    return df_results"
   ]
  },
  {
   "cell_type": "code",
   "execution_count": 71,
   "metadata": {},
   "outputs": [
    {
     "data": {
      "text/plain": [
       "'eta=0.01'"
      ]
     },
     "execution_count": 71,
     "metadata": {},
     "output_type": "execute_result"
    }
   ],
   "source": [
    "key = 'eta=%s' % (xgb_params['eta'])\n",
    "scores[key] = parse_xgb_output(output)\n",
    "key"
   ]
  },
  {
   "cell_type": "code",
   "execution_count": 72,
   "metadata": {},
   "outputs": [
    {
     "data": {
      "text/html": [
       "<div>\n",
       "<style scoped>\n",
       "    .dataframe tbody tr th:only-of-type {\n",
       "        vertical-align: middle;\n",
       "    }\n",
       "\n",
       "    .dataframe tbody tr th {\n",
       "        vertical-align: top;\n",
       "    }\n",
       "\n",
       "    .dataframe thead th {\n",
       "        text-align: right;\n",
       "    }\n",
       "</style>\n",
       "<table border=\"1\" class=\"dataframe\">\n",
       "  <thead>\n",
       "    <tr style=\"text-align: right;\">\n",
       "      <th></th>\n",
       "      <th>num_iter</th>\n",
       "      <th>train_rmse</th>\n",
       "      <th>val_rmse</th>\n",
       "    </tr>\n",
       "  </thead>\n",
       "  <tbody>\n",
       "    <tr>\n",
       "      <th>0</th>\n",
       "      <td>0</td>\n",
       "      <td>4.25336</td>\n",
       "      <td>4.25010</td>\n",
       "    </tr>\n",
       "    <tr>\n",
       "      <th>1</th>\n",
       "      <td>1</td>\n",
       "      <td>4.21141</td>\n",
       "      <td>4.20815</td>\n",
       "    </tr>\n",
       "    <tr>\n",
       "      <th>2</th>\n",
       "      <td>2</td>\n",
       "      <td>4.16988</td>\n",
       "      <td>4.16661</td>\n",
       "    </tr>\n",
       "    <tr>\n",
       "      <th>3</th>\n",
       "      <td>3</td>\n",
       "      <td>4.12877</td>\n",
       "      <td>4.12551</td>\n",
       "    </tr>\n",
       "    <tr>\n",
       "      <th>4</th>\n",
       "      <td>4</td>\n",
       "      <td>4.08807</td>\n",
       "      <td>4.08481</td>\n",
       "    </tr>\n",
       "    <tr>\n",
       "      <th>...</th>\n",
       "      <td>...</td>\n",
       "      <td>...</td>\n",
       "      <td>...</td>\n",
       "    </tr>\n",
       "    <tr>\n",
       "      <th>95</th>\n",
       "      <td>95</td>\n",
       "      <td>1.69373</td>\n",
       "      <td>1.69214</td>\n",
       "    </tr>\n",
       "    <tr>\n",
       "      <th>96</th>\n",
       "      <td>96</td>\n",
       "      <td>1.67804</td>\n",
       "      <td>1.67647</td>\n",
       "    </tr>\n",
       "    <tr>\n",
       "      <th>97</th>\n",
       "      <td>97</td>\n",
       "      <td>1.66251</td>\n",
       "      <td>1.66095</td>\n",
       "    </tr>\n",
       "    <tr>\n",
       "      <th>98</th>\n",
       "      <td>98</td>\n",
       "      <td>1.64716</td>\n",
       "      <td>1.64563</td>\n",
       "    </tr>\n",
       "    <tr>\n",
       "      <th>99</th>\n",
       "      <td>99</td>\n",
       "      <td>1.63198</td>\n",
       "      <td>1.63045</td>\n",
       "    </tr>\n",
       "  </tbody>\n",
       "</table>\n",
       "<p>100 rows × 3 columns</p>\n",
       "</div>"
      ],
      "text/plain": [
       "    num_iter  train_rmse  val_rmse\n",
       "0          0     4.25336   4.25010\n",
       "1          1     4.21141   4.20815\n",
       "2          2     4.16988   4.16661\n",
       "3          3     4.12877   4.12551\n",
       "4          4     4.08807   4.08481\n",
       "..       ...         ...       ...\n",
       "95        95     1.69373   1.69214\n",
       "96        96     1.67804   1.67647\n",
       "97        97     1.66251   1.66095\n",
       "98        98     1.64716   1.64563\n",
       "99        99     1.63198   1.63045\n",
       "\n",
       "[100 rows x 3 columns]"
      ]
     },
     "execution_count": 72,
     "metadata": {},
     "output_type": "execute_result"
    }
   ],
   "source": [
    "scores['eta=0.01']"
   ]
  },
  {
   "cell_type": "code",
   "execution_count": 73,
   "metadata": {},
   "outputs": [
    {
     "data": {
      "text/plain": [
       "dict_keys(['eta=0.3', 'eta=0.1', 'eta=0.01'])"
      ]
     },
     "execution_count": 73,
     "metadata": {},
     "output_type": "execute_result"
    }
   ],
   "source": [
    "scores.keys()"
   ]
  },
  {
   "cell_type": "code",
   "execution_count": 74,
   "metadata": {},
   "outputs": [
    {
     "data": {
      "text/plain": [
       "<matplotlib.legend.Legend at 0x1e62b695400>"
      ]
     },
     "execution_count": 74,
     "metadata": {},
     "output_type": "execute_result"
    },
    {
     "data": {
      "image/png": "[encoded data removed]",
      "text/plain": [
       "<Figure size 432x288 with 1 Axes>"
      ]
     },
     "metadata": {
      "needs_background": "light"
     },
     "output_type": "display_data"
    }
   ],
   "source": [
    "etas = ['eta=0.3', 'eta=0.1', 'eta=0.01']\n",
    "\n",
    "for eta in etas:\n",
    "    df_score = scores[eta]\n",
    "    plt.plot(df_score.num_iter, df_score.val_rmse, label=eta)\n",
    "plt.legend()"
   ]
  },
  {
   "cell_type": "code",
   "execution_count": null,
   "metadata": {},
   "outputs": [],
   "source": []
  },
  {
   "cell_type": "markdown",
   "metadata": {},
   "source": [
    "Now change `eta` first to `0.1` and then to `0.01`"
   ]
  },
  {
   "cell_type": "code",
   "execution_count": null,
   "metadata": {},
   "outputs": [],
   "source": []
  },
  {
   "cell_type": "markdown",
   "metadata": {},
   "source": [
    "What's the best eta?\n",
    "\n",
    "* 0.3\n",
    "* 0.1\n",
    "* 0.01"
   ]
  },
  {
   "cell_type": "markdown",
   "metadata": {},
   "source": [
    "Answer: The best eta is 0.3 as RMSE decreases most quickly and reaches lowest value with eta = 0.3"
   ]
  },
  {
   "cell_type": "markdown",
   "metadata": {},
   "source": [
    "## Submit the results\n",
    "\n",
    "\n",
    "Submit your results here: https://forms.gle/wQgFkYE6CtdDed4w8\n",
    "\n",
    "It's possible that your answers won't match exactly. If it's the case, select the closest one.\n",
    "\n",
    "\n",
    "## Deadline\n",
    "\n",
    "\n",
    "The deadline for submitting is 20 October 2021, 17:00 CET (Wednesday). After that, the form will be closed.\n",
    "\n"
   ]
  }
 ],
 "metadata": {
  "kernelspec": {
   "display_name": "Python 3",
   "language": "python",
   "name": "python3"
  },
  "language_info": {
   "codemirror_mode": {
    "name": "ipython",
    "version": 3
   },
   "file_extension": ".py",
   "mimetype": "text/x-python",
   "name": "python",
   "nbconvert_exporter": "python",
   "pygments_lexer": "ipython3",
   "version": "3.8.5"
  }
 },
 "nbformat": 4,
 "nbformat_minor": 2
}
