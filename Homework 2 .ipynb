{
 "cells": [
  {
   "cell_type": "markdown",
   "metadata": {},
   "source": [
    "# Session 2 - Homework\n",
    "#### By Quynh Le\n",
    "\n",
    "Part of the [Machine Learning Zoomcamp (September 2021 – December 2021)](https://datatalks.club/courses/2021-winter-ml-zoomcamp.html)"
   ]
  },
  {
   "cell_type": "code",
   "execution_count": 1,
   "metadata": {},
   "outputs": [],
   "source": [
    "import numpy as np\n",
    "import pandas as pd\n",
    "import matplotlib.pyplot as plt\n",
    "import seaborn as sns"
   ]
  },
  {
   "cell_type": "code",
   "execution_count": 2,
   "metadata": {},
   "outputs": [
    {
     "name": "stderr",
     "output_type": "stream",
     "text": [
      "--2021-09-18 18:40:56--  https://raw.githubusercontent.com/alexeygrigorev/datasets/master/AB_NYC_2019.csv\n",
      "Resolving raw.githubusercontent.com (raw.githubusercontent.com)... 185.199.109.133, 185.199.110.133, 185.199.111.133, ...\n",
      "Connecting to raw.githubusercontent.com (raw.githubusercontent.com)|185.199.109.133|:443... connected.\n",
      "HTTP request sent, awaiting response... 200 OK\n",
      "Length: 7077973 (6.8M) [text/plain]\n",
      "Saving to: 'AB_NYC_2019.csv'\n",
      "\n",
      "     0K .......... .......... .......... .......... ..........  0% 1.64M 4s\n",
      "    50K .......... .......... .......... .......... ..........  1% 2.92M 3s\n",
      "   100K .......... .......... .......... .......... ..........  2% 2.82M 3s\n",
      "   150K .......... .......... .......... .......... ..........  2% 5.23M 2s\n",
      "   200K .......... .......... .......... .......... ..........  3% 3.01M 2s\n",
      "   250K .......... .......... .......... .......... ..........  4% 6.19M 2s\n",
      "   300K .......... .......... .......... .......... ..........  5% 5.34M 2s\n",
      "   350K .......... .......... .......... .......... ..........  5% 9.31M 2s\n",
      "   400K .......... .......... .......... .......... ..........  6% 2.58M 2s\n",
      "   450K .......... .......... .......... .......... ..........  7% 7.29M 2s\n",
      "   500K .......... .......... .......... .......... ..........  7% 14.3M 2s\n",
      "   550K .......... .......... .......... .......... ..........  8% 10.9M 2s\n",
      "   600K .......... .......... .......... .......... ..........  9% 6.87M 1s\n",
      "   650K .......... .......... .......... .......... .......... 10% 11.1M 1s\n",
      "   700K .......... .......... .......... .......... .......... 10% 11.9M 1s\n",
      "   750K .......... .......... .......... .......... .......... 11% 12.8M 1s\n",
      "   800K .......... .......... .......... .......... .......... 12% 8.81M 1s\n",
      "   850K .......... .......... .......... .......... .......... 13% 6.50M 1s\n",
      "   900K .......... .......... .......... .......... .......... 13% 3.37M 1s\n",
      "   950K .......... .......... .......... .......... .......... 14% 15.8M 1s\n",
      "  1000K .......... .......... .......... .......... .......... 15% 34.0M 1s\n",
      "  1050K .......... .......... .......... .......... .......... 15% 4.86M 1s\n",
      "  1100K .......... .......... .......... .......... .......... 16% 11.1M 1s\n",
      "  1150K .......... .......... .......... .......... .......... 17% 13.7M 1s\n",
      "  1200K .......... .......... .......... .......... .......... 18% 12.3M 1s\n",
      "  1250K .......... .......... .......... .......... .......... 18% 5.11M 1s\n",
      "  1300K .......... .......... .......... .......... .......... 19% 3.96M 1s\n",
      "  1350K .......... .......... .......... .......... .......... 20%  255K 2s\n",
      "  1400K .......... .......... .......... .......... .......... 20%  127M 2s\n",
      "  1450K .......... .......... .......... .......... .......... 21%  129M 2s\n",
      "  1500K .......... .......... .......... .......... .......... 22% 96.0M 2s\n",
      "  1550K .......... .......... .......... .......... .......... 23% 89.3M 1s\n",
      "  1600K .......... .......... .......... .......... .......... 23%  217M 1s\n",
      "  1650K .......... .......... .......... .......... .......... 24%  140M 1s\n",
      "  1700K .......... .......... .......... .......... .......... 25% 8.88M 1s\n",
      "  1750K .......... .......... .......... .......... .......... 26%  102M 1s\n",
      "  1800K .......... .......... .......... .......... .......... 26%  190M 1s\n",
      "  1850K .......... .......... .......... .......... .......... 27%  145M 1s\n",
      "  1900K .......... .......... .......... .......... .......... 28% 85.6M 1s\n",
      "  1950K .......... .......... .......... .......... .......... 28% 8.46M 1s\n",
      "  2000K .......... .......... .......... .......... .......... 29% 96.4M 1s\n",
      "  2050K .......... .......... .......... .......... .......... 30% 78.3M 1s\n",
      "  2100K .......... .......... .......... .......... .......... 31% 87.3M 1s\n",
      "  2150K .......... .......... .......... .......... .......... 31%  178M 1s\n",
      "  2200K .......... .......... .......... .......... .......... 32%  106M 1s\n",
      "  2250K .......... .......... .......... .......... .......... 33%  172M 1s\n",
      "  2300K .......... .......... .......... .......... .......... 33%  298M 1s\n",
      "  2350K .......... .......... .......... .......... .......... 34%  154M 1s\n",
      "  2400K .......... .......... .......... .......... .......... 35%  140M 1s\n",
      "  2450K .......... .......... .......... .......... .......... 36%  202M 1s\n",
      "  2500K .......... .......... .......... .......... .......... 36%  212M 1s\n",
      "  2550K .......... .......... .......... .......... .......... 37%  111M 1s\n",
      "  2600K .......... .......... .......... .......... .......... 38%  127M 1s\n",
      "  2650K .......... .......... .......... .......... .......... 39%  360M 1s\n",
      "  2700K .......... .......... .......... .......... .......... 39%  154M 1s\n",
      "  2750K .......... .......... .......... .......... .......... 40% 17.6M 1s\n",
      "  2800K .......... .......... .......... .......... .......... 41% 8.54M 1s\n",
      "  2850K .......... .......... .......... .......... .......... 41% 3.50M 1s\n",
      "  2900K .......... .......... .......... .......... .......... 42% 8.07M 1s\n",
      "  2950K .......... .......... .......... .......... .......... 43% 5.72M 1s\n",
      "  3000K .......... .......... .......... .......... .......... 44% 7.12M 1s\n",
      "  3050K .......... .......... .......... .......... .......... 44% 9.72M 1s\n",
      "  3100K .......... .......... .......... .......... .......... 45% 11.2M 1s\n",
      "  3150K .......... .......... .......... .......... .......... 46% 6.71M 1s\n",
      "  3200K .......... .......... .......... .......... .......... 47% 7.14M 1s\n",
      "  3250K .......... .......... .......... .......... .......... 47% 3.05M 1s\n",
      "  3300K .......... .......... .......... .......... .......... 48% 3.06M 1s\n",
      "  3350K .......... .......... .......... .......... .......... 49% 52.9M 1s\n",
      "  3400K .......... .......... .......... .......... .......... 49% 10.2M 1s\n",
      "  3450K .......... .......... .......... .......... .......... 50% 4.70M 1s\n",
      "  3500K .......... .......... .......... .......... .......... 51% 2.19M 1s\n",
      "  3550K .......... .......... .......... .......... .......... 52% 86.4M 1s\n",
      "  3600K .......... .......... .......... .......... .......... 52% 17.3M 1s\n",
      "  3650K .......... .......... .......... .......... .......... 53% 6.11M 1s\n",
      "  3700K .......... .......... .......... .......... .......... 54%  727K 1s\n",
      "  3750K .......... .......... .......... .......... .......... 54% 45.8M 1s\n",
      "  3800K .......... .......... .......... .......... .......... 55% 50.6M 1s\n",
      "  3850K .......... .......... .......... .......... .......... 56% 65.6M 1s\n",
      "  3900K .......... .......... .......... .......... .......... 57% 3.92M 1s\n",
      "  3950K .......... .......... .......... .......... .......... 57% 5.56M 1s\n",
      "  4000K .......... .......... .......... .......... .......... 58% 70.1M 0s\n",
      "  4050K .......... .......... .......... .......... .......... 59% 20.3M 0s\n",
      "  4100K .......... .......... .......... .......... .......... 60% 3.80M 0s\n",
      "  4150K .......... .......... .......... .......... .......... 60% 7.51M 0s\n",
      "  4200K .......... .......... .......... .......... .......... 61%  109M 0s\n",
      "  4250K .......... .......... .......... .......... .......... 62%  113M 0s\n",
      "  4300K .......... .......... .......... .......... .......... 62%  152M 0s\n",
      "  4350K .......... .......... .......... .......... .......... 63% 95.0M 0s\n",
      "  4400K .......... .......... .......... .......... .......... 64% 19.6M 0s\n",
      "  4450K .......... .......... .......... .......... .......... 65% 5.30M 0s\n",
      "  4500K .......... .......... .......... .......... .......... 65% 5.50M 0s\n",
      "  4550K .......... .......... .......... .......... .......... 66% 4.51M 0s\n",
      "  4600K .......... .......... .......... .......... .......... 67% 8.80M 0s\n",
      "  4650K .......... .......... .......... .......... .......... 67% 9.67M 0s\n",
      "  4700K .......... .......... .......... .......... .......... 68% 9.23M 0s\n",
      "  4750K .......... .......... .......... .......... .......... 69% 15.0M 0s\n",
      "  4800K .......... .......... .......... .......... .......... 70% 8.69M 0s\n",
      "  4850K .......... .......... .......... .......... .......... 70% 6.26M 0s\n",
      "  4900K .......... .......... .......... .......... .......... 71% 5.75M 0s\n",
      "  4950K .......... .......... .......... .......... .......... 72% 5.06M 0s\n",
      "  5000K .......... .......... .......... .......... .......... 73% 4.62M 0s\n",
      "  5050K .......... .......... .......... .......... .......... 73% 53.4M 0s\n",
      "  5100K .......... .......... .......... .......... .......... 74% 6.74M 0s\n",
      "  5150K .......... .......... .......... .......... .......... 75% 10.7M 0s\n",
      "  5200K .......... .......... .......... .......... .......... 75% 6.10M 0s\n",
      "  5250K .......... .......... .......... .......... .......... 76% 6.38M 0s\n",
      "  5300K .......... .......... .......... .......... .......... 77% 3.39M 0s\n",
      "  5350K .......... .......... .......... .......... .......... 78% 39.4M 0s\n",
      "  5400K .......... .......... .......... .......... .......... 78%  566K 0s\n",
      "  5450K .......... .......... .......... .......... .......... 79% 78.6M 0s\n",
      "  5500K .......... .......... .......... .......... .......... 80% 86.2M 0s\n",
      "  5550K .......... .......... .......... .......... .......... 81%  118M 0s\n",
      "  5600K .......... .......... .......... .......... .......... 81% 90.3M 0s\n",
      "  5650K .......... .......... .......... .......... .......... 82% 67.9M 0s\n",
      "  5700K .......... .......... .......... .......... .......... 83% 1.67M 0s\n",
      "  5750K .......... .......... .......... .......... .......... 83%  248M 0s\n",
      "  5800K .......... .......... .......... .......... .......... 84% 13.2M 0s\n",
      "  5850K .......... .......... .......... .......... .......... 85% 3.97M 0s\n",
      "  5900K .......... .......... .......... .......... .......... 86%  102M 0s\n",
      "  5950K .......... .......... .......... .......... .......... 86%  205M 0s\n",
      "  6000K .......... .......... .......... .......... .......... 87%  151M 0s\n",
      "  6050K .......... .......... .......... .......... .......... 88% 27.3M 0s\n",
      "  6100K .......... .......... .......... .......... .......... 88% 2.93M 0s\n",
      "  6150K .......... .......... .......... .......... .......... 89% 5.84M 0s\n",
      "  6200K .......... .......... .......... .......... .......... 90% 9.27M 0s\n",
      "  6250K .......... .......... .......... .......... .......... 91% 10.1M 0s\n",
      "  6300K .......... .......... .......... .......... .......... 91% 3.54M 0s\n",
      "  6350K .......... .......... .......... .......... .......... 92% 4.17M 0s\n",
      "  6400K .......... .......... .......... .......... .......... 93% 50.9M 0s\n",
      "  6450K .......... .......... .......... .......... .......... 94% 13.5M 0s\n",
      "  6500K .......... .......... .......... .......... .......... 94% 5.88M 0s\n",
      "  6550K .......... .......... .......... .......... .......... 95% 4.33M 0s\n",
      "  6600K .......... .......... .......... .......... .......... 96% 67.1M 0s\n",
      "  6650K .......... .......... .......... .......... .......... 96% 13.6M 0s\n",
      "  6700K .......... .......... .......... .......... .......... 97% 6.35M 0s\n",
      "  6750K .......... .......... .......... .......... .......... 98% 3.41M 0s\n",
      "  6800K .......... .......... .......... .......... .......... 99% 60.4M 0s\n",
      "  6850K .......... .......... .......... .......... .......... 99% 7.59M 0s\n",
      "  6900K .......... ..                                         100% 69.2M=1.1s\n",
      "\n",
      "2021-09-18 18:40:58 (6.04 MB/s) - 'AB_NYC_2019.csv' saved [7077973/7077973]\n",
      "\n"
     ]
    }
   ],
   "source": [
    "# No need to rerun this after first time as file already saved in folder:\n",
    "!wget https://raw.githubusercontent.com/alexeygrigorev/datasets/master/AB_NYC_2019.csv"
   ]
  },
  {
   "cell_type": "code",
   "execution_count": 3,
   "metadata": {},
   "outputs": [
    {
     "data": {
      "text/html": [
       "<div>\n",
       "<style scoped>\n",
       "    .dataframe tbody tr th:only-of-type {\n",
       "        vertical-align: middle;\n",
       "    }\n",
       "\n",
       "    .dataframe tbody tr th {\n",
       "        vertical-align: top;\n",
       "    }\n",
       "\n",
       "    .dataframe thead th {\n",
       "        text-align: right;\n",
       "    }\n",
       "</style>\n",
       "<table border=\"1\" class=\"dataframe\">\n",
       "  <thead>\n",
       "    <tr style=\"text-align: right;\">\n",
       "      <th></th>\n",
       "      <th>id</th>\n",
       "      <th>name</th>\n",
       "      <th>host_id</th>\n",
       "      <th>host_name</th>\n",
       "      <th>neighbourhood_group</th>\n",
       "      <th>neighbourhood</th>\n",
       "      <th>latitude</th>\n",
       "      <th>longitude</th>\n",
       "      <th>room_type</th>\n",
       "      <th>price</th>\n",
       "      <th>minimum_nights</th>\n",
       "      <th>number_of_reviews</th>\n",
       "      <th>last_review</th>\n",
       "      <th>reviews_per_month</th>\n",
       "      <th>calculated_host_listings_count</th>\n",
       "      <th>availability_365</th>\n",
       "    </tr>\n",
       "  </thead>\n",
       "  <tbody>\n",
       "    <tr>\n",
       "      <th>0</th>\n",
       "      <td>2539</td>\n",
       "      <td>Clean &amp; quiet apt home by the park</td>\n",
       "      <td>2787</td>\n",
       "      <td>John</td>\n",
       "      <td>Brooklyn</td>\n",
       "      <td>Kensington</td>\n",
       "      <td>40.64749</td>\n",
       "      <td>-73.97237</td>\n",
       "      <td>Private room</td>\n",
       "      <td>149</td>\n",
       "      <td>1</td>\n",
       "      <td>9</td>\n",
       "      <td>2018-10-19</td>\n",
       "      <td>0.21</td>\n",
       "      <td>6</td>\n",
       "      <td>365</td>\n",
       "    </tr>\n",
       "    <tr>\n",
       "      <th>1</th>\n",
       "      <td>2595</td>\n",
       "      <td>Skylit Midtown Castle</td>\n",
       "      <td>2845</td>\n",
       "      <td>Jennifer</td>\n",
       "      <td>Manhattan</td>\n",
       "      <td>Midtown</td>\n",
       "      <td>40.75362</td>\n",
       "      <td>-73.98377</td>\n",
       "      <td>Entire home/apt</td>\n",
       "      <td>225</td>\n",
       "      <td>1</td>\n",
       "      <td>45</td>\n",
       "      <td>2019-05-21</td>\n",
       "      <td>0.38</td>\n",
       "      <td>2</td>\n",
       "      <td>355</td>\n",
       "    </tr>\n",
       "    <tr>\n",
       "      <th>2</th>\n",
       "      <td>3647</td>\n",
       "      <td>THE VILLAGE OF HARLEM....NEW YORK !</td>\n",
       "      <td>4632</td>\n",
       "      <td>Elisabeth</td>\n",
       "      <td>Manhattan</td>\n",
       "      <td>Harlem</td>\n",
       "      <td>40.80902</td>\n",
       "      <td>-73.94190</td>\n",
       "      <td>Private room</td>\n",
       "      <td>150</td>\n",
       "      <td>3</td>\n",
       "      <td>0</td>\n",
       "      <td>NaN</td>\n",
       "      <td>NaN</td>\n",
       "      <td>1</td>\n",
       "      <td>365</td>\n",
       "    </tr>\n",
       "    <tr>\n",
       "      <th>3</th>\n",
       "      <td>3831</td>\n",
       "      <td>Cozy Entire Floor of Brownstone</td>\n",
       "      <td>4869</td>\n",
       "      <td>LisaRoxanne</td>\n",
       "      <td>Brooklyn</td>\n",
       "      <td>Clinton Hill</td>\n",
       "      <td>40.68514</td>\n",
       "      <td>-73.95976</td>\n",
       "      <td>Entire home/apt</td>\n",
       "      <td>89</td>\n",
       "      <td>1</td>\n",
       "      <td>270</td>\n",
       "      <td>2019-07-05</td>\n",
       "      <td>4.64</td>\n",
       "      <td>1</td>\n",
       "      <td>194</td>\n",
       "    </tr>\n",
       "    <tr>\n",
       "      <th>4</th>\n",
       "      <td>5022</td>\n",
       "      <td>Entire Apt: Spacious Studio/Loft by central park</td>\n",
       "      <td>7192</td>\n",
       "      <td>Laura</td>\n",
       "      <td>Manhattan</td>\n",
       "      <td>East Harlem</td>\n",
       "      <td>40.79851</td>\n",
       "      <td>-73.94399</td>\n",
       "      <td>Entire home/apt</td>\n",
       "      <td>80</td>\n",
       "      <td>10</td>\n",
       "      <td>9</td>\n",
       "      <td>2018-11-19</td>\n",
       "      <td>0.10</td>\n",
       "      <td>1</td>\n",
       "      <td>0</td>\n",
       "    </tr>\n",
       "  </tbody>\n",
       "</table>\n",
       "</div>"
      ],
      "text/plain": [
       "     id                                              name  host_id  \\\n",
       "0  2539                Clean & quiet apt home by the park     2787   \n",
       "1  2595                             Skylit Midtown Castle     2845   \n",
       "2  3647               THE VILLAGE OF HARLEM....NEW YORK !     4632   \n",
       "3  3831                   Cozy Entire Floor of Brownstone     4869   \n",
       "4  5022  Entire Apt: Spacious Studio/Loft by central park     7192   \n",
       "\n",
       "     host_name neighbourhood_group neighbourhood  latitude  longitude  \\\n",
       "0         John            Brooklyn    Kensington  40.64749  -73.97237   \n",
       "1     Jennifer           Manhattan       Midtown  40.75362  -73.98377   \n",
       "2    Elisabeth           Manhattan        Harlem  40.80902  -73.94190   \n",
       "3  LisaRoxanne            Brooklyn  Clinton Hill  40.68514  -73.95976   \n",
       "4        Laura           Manhattan   East Harlem  40.79851  -73.94399   \n",
       "\n",
       "         room_type  price  minimum_nights  number_of_reviews last_review  \\\n",
       "0     Private room    149               1                  9  2018-10-19   \n",
       "1  Entire home/apt    225               1                 45  2019-05-21   \n",
       "2     Private room    150               3                  0         NaN   \n",
       "3  Entire home/apt     89               1                270  2019-07-05   \n",
       "4  Entire home/apt     80              10                  9  2018-11-19   \n",
       "\n",
       "   reviews_per_month  calculated_host_listings_count  availability_365  \n",
       "0               0.21                               6               365  \n",
       "1               0.38                               2               355  \n",
       "2                NaN                               1               365  \n",
       "3               4.64                               1               194  \n",
       "4               0.10                               1                 0  "
      ]
     },
     "execution_count": 3,
     "metadata": {},
     "output_type": "execute_result"
    }
   ],
   "source": [
    "data = pd.read_csv('AB_NYC_2019.csv')\n",
    "data.head()"
   ]
  },
  {
   "cell_type": "code",
   "execution_count": 4,
   "metadata": {},
   "outputs": [
    {
     "name": "stdout",
     "output_type": "stream",
     "text": [
      "<class 'pandas.core.frame.DataFrame'>\n",
      "RangeIndex: 48895 entries, 0 to 48894\n",
      "Data columns (total 16 columns):\n",
      " #   Column                          Non-Null Count  Dtype  \n",
      "---  ------                          --------------  -----  \n",
      " 0   id                              48895 non-null  int64  \n",
      " 1   name                            48879 non-null  object \n",
      " 2   host_id                         48895 non-null  int64  \n",
      " 3   host_name                       48874 non-null  object \n",
      " 4   neighbourhood_group             48895 non-null  object \n",
      " 5   neighbourhood                   48895 non-null  object \n",
      " 6   latitude                        48895 non-null  float64\n",
      " 7   longitude                       48895 non-null  float64\n",
      " 8   room_type                       48895 non-null  object \n",
      " 9   price                           48895 non-null  int64  \n",
      " 10  minimum_nights                  48895 non-null  int64  \n",
      " 11  number_of_reviews               48895 non-null  int64  \n",
      " 12  last_review                     38843 non-null  object \n",
      " 13  reviews_per_month               38843 non-null  float64\n",
      " 14  calculated_host_listings_count  48895 non-null  int64  \n",
      " 15  availability_365                48895 non-null  int64  \n",
      "dtypes: float64(3), int64(7), object(6)\n",
      "memory usage: 6.0+ MB\n"
     ]
    }
   ],
   "source": [
    "data.info()"
   ]
  },
  {
   "cell_type": "markdown",
   "metadata": {},
   "source": [
    "## Exploratory Data Analysis"
   ]
  },
  {
   "cell_type": "code",
   "execution_count": 5,
   "metadata": {},
   "outputs": [
    {
     "data": {
      "text/plain": [
       "count    48895.000000\n",
       "mean       152.720687\n",
       "std        240.154170\n",
       "min          0.000000\n",
       "25%         69.000000\n",
       "50%        106.000000\n",
       "75%        175.000000\n",
       "max      10000.000000\n",
       "Name: price, dtype: float64"
      ]
     },
     "execution_count": 5,
     "metadata": {},
     "output_type": "execute_result"
    }
   ],
   "source": [
    "data.price.describe()"
   ]
  },
  {
   "cell_type": "code",
   "execution_count": 6,
   "metadata": {},
   "outputs": [
    {
     "data": {
      "image/png": "[encoded data removed]",
      "text/plain": [
       "<Figure size 720x576 with 1 Axes>"
      ]
     },
     "metadata": {
      "needs_background": "light"
     },
     "output_type": "display_data"
    }
   ],
   "source": [
    "plt.figure(figsize = (10, 8))\n",
    "sns.histplot(data.price, color = 'blue', bins = 50);"
   ]
  },
  {
   "cell_type": "markdown",
   "metadata": {},
   "source": [
    "- 'price' variable has a very long tail."
   ]
  },
  {
   "cell_type": "code",
   "execution_count": 7,
   "metadata": {},
   "outputs": [
    {
     "data": {
      "image/png": "[encoded data removed]",
      "text/plain": [
       "<Figure size 720x576 with 1 Axes>"
      ]
     },
     "metadata": {
      "needs_background": "light"
     },
     "output_type": "display_data"
    }
   ],
   "source": [
    "# If apply a log on the price, data looks more normal:\n",
    "\n",
    "plt.figure(figsize = (10, 8))\n",
    "sns.histplot(np.log1p(data.price), color = 'blue', bins = 50);"
   ]
  },
  {
   "cell_type": "code",
   "execution_count": 8,
   "metadata": {},
   "outputs": [
    {
     "data": {
      "text/plain": [
       "Index(['id', 'name', 'host_id', 'host_name', 'neighbourhood_group',\n",
       "       'neighbourhood', 'latitude', 'longitude', 'room_type', 'price',\n",
       "       'minimum_nights', 'number_of_reviews', 'last_review',\n",
       "       'reviews_per_month', 'calculated_host_listings_count',\n",
       "       'availability_365'],\n",
       "      dtype='object')"
      ]
     },
     "execution_count": 8,
     "metadata": {},
     "output_type": "execute_result"
    }
   ],
   "source": [
    "data.columns"
   ]
  },
  {
   "cell_type": "code",
   "execution_count": 9,
   "metadata": {},
   "outputs": [
    {
     "data": {
      "text/html": [
       "<div>\n",
       "<style scoped>\n",
       "    .dataframe tbody tr th:only-of-type {\n",
       "        vertical-align: middle;\n",
       "    }\n",
       "\n",
       "    .dataframe tbody tr th {\n",
       "        vertical-align: top;\n",
       "    }\n",
       "\n",
       "    .dataframe thead th {\n",
       "        text-align: right;\n",
       "    }\n",
       "</style>\n",
       "<table border=\"1\" class=\"dataframe\">\n",
       "  <thead>\n",
       "    <tr style=\"text-align: right;\">\n",
       "      <th></th>\n",
       "      <th>latitude</th>\n",
       "      <th>longitude</th>\n",
       "      <th>price</th>\n",
       "      <th>minimum_nights</th>\n",
       "      <th>number_of_reviews</th>\n",
       "      <th>reviews_per_month</th>\n",
       "      <th>calculated_host_listings_count</th>\n",
       "      <th>availability_365</th>\n",
       "    </tr>\n",
       "  </thead>\n",
       "  <tbody>\n",
       "    <tr>\n",
       "      <th>0</th>\n",
       "      <td>40.64749</td>\n",
       "      <td>-73.97237</td>\n",
       "      <td>149</td>\n",
       "      <td>1</td>\n",
       "      <td>9</td>\n",
       "      <td>0.21</td>\n",
       "      <td>6</td>\n",
       "      <td>365</td>\n",
       "    </tr>\n",
       "    <tr>\n",
       "      <th>1</th>\n",
       "      <td>40.75362</td>\n",
       "      <td>-73.98377</td>\n",
       "      <td>225</td>\n",
       "      <td>1</td>\n",
       "      <td>45</td>\n",
       "      <td>0.38</td>\n",
       "      <td>2</td>\n",
       "      <td>355</td>\n",
       "    </tr>\n",
       "    <tr>\n",
       "      <th>2</th>\n",
       "      <td>40.80902</td>\n",
       "      <td>-73.94190</td>\n",
       "      <td>150</td>\n",
       "      <td>3</td>\n",
       "      <td>0</td>\n",
       "      <td>NaN</td>\n",
       "      <td>1</td>\n",
       "      <td>365</td>\n",
       "    </tr>\n",
       "    <tr>\n",
       "      <th>3</th>\n",
       "      <td>40.68514</td>\n",
       "      <td>-73.95976</td>\n",
       "      <td>89</td>\n",
       "      <td>1</td>\n",
       "      <td>270</td>\n",
       "      <td>4.64</td>\n",
       "      <td>1</td>\n",
       "      <td>194</td>\n",
       "    </tr>\n",
       "    <tr>\n",
       "      <th>4</th>\n",
       "      <td>40.79851</td>\n",
       "      <td>-73.94399</td>\n",
       "      <td>80</td>\n",
       "      <td>10</td>\n",
       "      <td>9</td>\n",
       "      <td>0.10</td>\n",
       "      <td>1</td>\n",
       "      <td>0</td>\n",
       "    </tr>\n",
       "  </tbody>\n",
       "</table>\n",
       "</div>"
      ],
      "text/plain": [
       "   latitude  longitude  price  minimum_nights  number_of_reviews  \\\n",
       "0  40.64749  -73.97237    149               1                  9   \n",
       "1  40.75362  -73.98377    225               1                 45   \n",
       "2  40.80902  -73.94190    150               3                  0   \n",
       "3  40.68514  -73.95976     89               1                270   \n",
       "4  40.79851  -73.94399     80              10                  9   \n",
       "\n",
       "   reviews_per_month  calculated_host_listings_count  availability_365  \n",
       "0               0.21                               6               365  \n",
       "1               0.38                               2               355  \n",
       "2                NaN                               1               365  \n",
       "3               4.64                               1               194  \n",
       "4               0.10                               1                 0  "
      ]
     },
     "execution_count": 9,
     "metadata": {},
     "output_type": "execute_result"
    }
   ],
   "source": [
    "select = ['latitude', 'longitude', 'price',\n",
    "       'minimum_nights', 'number_of_reviews', \n",
    "       'reviews_per_month', 'calculated_host_listings_count',\n",
    "       'availability_365' ]\n",
    "data = data[select]\n",
    "data.head()"
   ]
  },
  {
   "cell_type": "markdown",
   "metadata": {},
   "source": [
    "**Question 1:**\n",
    "'reviews_per_month' is the only feature with missing values. It has 10,052 missing values."
   ]
  },
  {
   "cell_type": "code",
   "execution_count": 10,
   "metadata": {},
   "outputs": [
    {
     "data": {
      "text/plain": [
       "latitude                              0\n",
       "longitude                             0\n",
       "price                                 0\n",
       "minimum_nights                        0\n",
       "number_of_reviews                     0\n",
       "reviews_per_month                 10052\n",
       "calculated_host_listings_count        0\n",
       "availability_365                      0\n",
       "dtype: int64"
      ]
     },
     "execution_count": 10,
     "metadata": {},
     "output_type": "execute_result"
    }
   ],
   "source": [
    "data.isnull().sum()"
   ]
  },
  {
   "cell_type": "markdown",
   "metadata": {},
   "source": [
    "**Question 2:**\n",
    "The median (50% percentile) for variable 'minimum_nights' is 3. "
   ]
  },
  {
   "cell_type": "code",
   "execution_count": 11,
   "metadata": {},
   "outputs": [
    {
     "data": {
      "text/plain": [
       "3.0"
      ]
     },
     "execution_count": 11,
     "metadata": {},
     "output_type": "execute_result"
    }
   ],
   "source": [
    "data.minimum_nights.median()"
   ]
  },
  {
   "cell_type": "code",
   "execution_count": 12,
   "metadata": {},
   "outputs": [
    {
     "data": {
      "text/plain": [
       "count    48895.000000\n",
       "mean         7.029962\n",
       "std         20.510550\n",
       "min          1.000000\n",
       "25%          1.000000\n",
       "50%          3.000000\n",
       "75%          5.000000\n",
       "max       1250.000000\n",
       "Name: minimum_nights, dtype: float64"
      ]
     },
     "execution_count": 12,
     "metadata": {},
     "output_type": "execute_result"
    }
   ],
   "source": [
    "data.minimum_nights.describe()           # Another way to check median value"
   ]
  },
  {
   "cell_type": "markdown",
   "metadata": {},
   "source": [
    "## Split the data"
   ]
  },
  {
   "cell_type": "code",
   "execution_count": 13,
   "metadata": {},
   "outputs": [
    {
     "name": "stdout",
     "output_type": "stream",
     "text": [
      "48895 29337 9779 9779\n"
     ]
    }
   ],
   "source": [
    "n = len(data)\n",
    "n_train = int(len(data)*0.6)\n",
    "n_val   = int(len(data)*0.2)\n",
    "n_test  = int(len(data)*0.2)\n",
    "\n",
    "print(n, n_train, n_val, n_test)"
   ]
  },
  {
   "cell_type": "code",
   "execution_count": 14,
   "metadata": {},
   "outputs": [
    {
     "name": "stdout",
     "output_type": "stream",
     "text": [
      "48895 48895\n"
     ]
    }
   ],
   "source": [
    "print(n, n_train + n_val + n_test)        # Check if number of obs in train, validation, and test set add to total number in original data"
   ]
  },
  {
   "cell_type": "code",
   "execution_count": 15,
   "metadata": {},
   "outputs": [],
   "source": [
    "dt_train = data.iloc[:n_train]\n",
    "dt_val   = data.iloc[n_train:n_train+n_val]\n",
    "dt_test  = data.iloc[n_train+n_val:]"
   ]
  },
  {
   "cell_type": "code",
   "execution_count": 16,
   "metadata": {},
   "outputs": [
    {
     "data": {
      "text/html": [
       "<div>\n",
       "<style scoped>\n",
       "    .dataframe tbody tr th:only-of-type {\n",
       "        vertical-align: middle;\n",
       "    }\n",
       "\n",
       "    .dataframe tbody tr th {\n",
       "        vertical-align: top;\n",
       "    }\n",
       "\n",
       "    .dataframe thead th {\n",
       "        text-align: right;\n",
       "    }\n",
       "</style>\n",
       "<table border=\"1\" class=\"dataframe\">\n",
       "  <thead>\n",
       "    <tr style=\"text-align: right;\">\n",
       "      <th></th>\n",
       "      <th>latitude</th>\n",
       "      <th>longitude</th>\n",
       "      <th>price</th>\n",
       "      <th>minimum_nights</th>\n",
       "      <th>number_of_reviews</th>\n",
       "      <th>reviews_per_month</th>\n",
       "      <th>calculated_host_listings_count</th>\n",
       "      <th>availability_365</th>\n",
       "    </tr>\n",
       "  </thead>\n",
       "  <tbody>\n",
       "    <tr>\n",
       "      <th>0</th>\n",
       "      <td>40.64749</td>\n",
       "      <td>-73.97237</td>\n",
       "      <td>149</td>\n",
       "      <td>1</td>\n",
       "      <td>9</td>\n",
       "      <td>0.21</td>\n",
       "      <td>6</td>\n",
       "      <td>365</td>\n",
       "    </tr>\n",
       "    <tr>\n",
       "      <th>1</th>\n",
       "      <td>40.75362</td>\n",
       "      <td>-73.98377</td>\n",
       "      <td>225</td>\n",
       "      <td>1</td>\n",
       "      <td>45</td>\n",
       "      <td>0.38</td>\n",
       "      <td>2</td>\n",
       "      <td>355</td>\n",
       "    </tr>\n",
       "    <tr>\n",
       "      <th>2</th>\n",
       "      <td>40.80902</td>\n",
       "      <td>-73.94190</td>\n",
       "      <td>150</td>\n",
       "      <td>3</td>\n",
       "      <td>0</td>\n",
       "      <td>NaN</td>\n",
       "      <td>1</td>\n",
       "      <td>365</td>\n",
       "    </tr>\n",
       "    <tr>\n",
       "      <th>3</th>\n",
       "      <td>40.68514</td>\n",
       "      <td>-73.95976</td>\n",
       "      <td>89</td>\n",
       "      <td>1</td>\n",
       "      <td>270</td>\n",
       "      <td>4.64</td>\n",
       "      <td>1</td>\n",
       "      <td>194</td>\n",
       "    </tr>\n",
       "    <tr>\n",
       "      <th>4</th>\n",
       "      <td>40.79851</td>\n",
       "      <td>-73.94399</td>\n",
       "      <td>80</td>\n",
       "      <td>10</td>\n",
       "      <td>9</td>\n",
       "      <td>0.10</td>\n",
       "      <td>1</td>\n",
       "      <td>0</td>\n",
       "    </tr>\n",
       "  </tbody>\n",
       "</table>\n",
       "</div>"
      ],
      "text/plain": [
       "   latitude  longitude  price  minimum_nights  number_of_reviews  \\\n",
       "0  40.64749  -73.97237    149               1                  9   \n",
       "1  40.75362  -73.98377    225               1                 45   \n",
       "2  40.80902  -73.94190    150               3                  0   \n",
       "3  40.68514  -73.95976     89               1                270   \n",
       "4  40.79851  -73.94399     80              10                  9   \n",
       "\n",
       "   reviews_per_month  calculated_host_listings_count  availability_365  \n",
       "0               0.21                               6               365  \n",
       "1               0.38                               2               355  \n",
       "2                NaN                               1               365  \n",
       "3               4.64                               1               194  \n",
       "4               0.10                               1                 0  "
      ]
     },
     "execution_count": 16,
     "metadata": {},
     "output_type": "execute_result"
    }
   ],
   "source": [
    "dt_train.head()       # Probably some order in latitude and longitude"
   ]
  },
  {
   "cell_type": "code",
   "execution_count": 17,
   "metadata": {},
   "outputs": [],
   "source": [
    "idx = np.arange(n)"
   ]
  },
  {
   "cell_type": "code",
   "execution_count": 18,
   "metadata": {},
   "outputs": [
    {
     "data": {
      "text/plain": [
       "array([    0,     1,     2, ..., 48892, 48893, 48894])"
      ]
     },
     "execution_count": 18,
     "metadata": {},
     "output_type": "execute_result"
    }
   ],
   "source": [
    "idx"
   ]
  },
  {
   "cell_type": "code",
   "execution_count": 19,
   "metadata": {},
   "outputs": [],
   "source": [
    "# Shuffle dataset using seed 42:\n",
    "\n",
    "np.random.seed(42)\n",
    "np.random.shuffle(idx)"
   ]
  },
  {
   "cell_type": "code",
   "execution_count": 20,
   "metadata": {},
   "outputs": [
    {
     "data": {
      "text/plain": [
       "array([  879, 44383, 15394, ..., 38158,   860, 15795])"
      ]
     },
     "execution_count": 20,
     "metadata": {},
     "output_type": "execute_result"
    }
   ],
   "source": [
    "idx"
   ]
  },
  {
   "cell_type": "code",
   "execution_count": 21,
   "metadata": {},
   "outputs": [],
   "source": [
    "# Split the data into training, validation, and test set using shuffled index:\n",
    "dt_train = data.iloc[idx[:n_train]]\n",
    "dt_val   = data.iloc[idx[n_train:n_train+n_val]]\n",
    "dt_test  = data.iloc[idx[n_train+n_val:]]"
   ]
  },
  {
   "cell_type": "code",
   "execution_count": 22,
   "metadata": {},
   "outputs": [
    {
     "data": {
      "text/html": [
       "<div>\n",
       "<style scoped>\n",
       "    .dataframe tbody tr th:only-of-type {\n",
       "        vertical-align: middle;\n",
       "    }\n",
       "\n",
       "    .dataframe tbody tr th {\n",
       "        vertical-align: top;\n",
       "    }\n",
       "\n",
       "    .dataframe thead th {\n",
       "        text-align: right;\n",
       "    }\n",
       "</style>\n",
       "<table border=\"1\" class=\"dataframe\">\n",
       "  <thead>\n",
       "    <tr style=\"text-align: right;\">\n",
       "      <th></th>\n",
       "      <th>latitude</th>\n",
       "      <th>longitude</th>\n",
       "      <th>price</th>\n",
       "      <th>minimum_nights</th>\n",
       "      <th>number_of_reviews</th>\n",
       "      <th>reviews_per_month</th>\n",
       "      <th>calculated_host_listings_count</th>\n",
       "      <th>availability_365</th>\n",
       "    </tr>\n",
       "  </thead>\n",
       "  <tbody>\n",
       "    <tr>\n",
       "      <th>879</th>\n",
       "      <td>40.64354</td>\n",
       "      <td>-73.97777</td>\n",
       "      <td>89</td>\n",
       "      <td>3</td>\n",
       "      <td>62</td>\n",
       "      <td>0.71</td>\n",
       "      <td>1</td>\n",
       "      <td>189</td>\n",
       "    </tr>\n",
       "    <tr>\n",
       "      <th>44383</th>\n",
       "      <td>40.70666</td>\n",
       "      <td>-73.90779</td>\n",
       "      <td>30</td>\n",
       "      <td>21</td>\n",
       "      <td>0</td>\n",
       "      <td>NaN</td>\n",
       "      <td>1</td>\n",
       "      <td>73</td>\n",
       "    </tr>\n",
       "    <tr>\n",
       "      <th>15394</th>\n",
       "      <td>40.76116</td>\n",
       "      <td>-73.99016</td>\n",
       "      <td>120</td>\n",
       "      <td>2</td>\n",
       "      <td>17</td>\n",
       "      <td>0.43</td>\n",
       "      <td>1</td>\n",
       "      <td>0</td>\n",
       "    </tr>\n",
       "    <tr>\n",
       "      <th>43230</th>\n",
       "      <td>40.70763</td>\n",
       "      <td>-74.01050</td>\n",
       "      <td>470</td>\n",
       "      <td>2</td>\n",
       "      <td>5</td>\n",
       "      <td>1.88</td>\n",
       "      <td>327</td>\n",
       "      <td>272</td>\n",
       "    </tr>\n",
       "    <tr>\n",
       "      <th>16332</th>\n",
       "      <td>40.79658</td>\n",
       "      <td>-73.93287</td>\n",
       "      <td>199</td>\n",
       "      <td>2</td>\n",
       "      <td>30</td>\n",
       "      <td>0.80</td>\n",
       "      <td>1</td>\n",
       "      <td>30</td>\n",
       "    </tr>\n",
       "  </tbody>\n",
       "</table>\n",
       "</div>"
      ],
      "text/plain": [
       "       latitude  longitude  price  minimum_nights  number_of_reviews  \\\n",
       "879    40.64354  -73.97777     89               3                 62   \n",
       "44383  40.70666  -73.90779     30              21                  0   \n",
       "15394  40.76116  -73.99016    120               2                 17   \n",
       "43230  40.70763  -74.01050    470               2                  5   \n",
       "16332  40.79658  -73.93287    199               2                 30   \n",
       "\n",
       "       reviews_per_month  calculated_host_listings_count  availability_365  \n",
       "879                 0.71                               1               189  \n",
       "44383                NaN                               1                73  \n",
       "15394               0.43                               1                 0  \n",
       "43230               1.88                             327               272  \n",
       "16332               0.80                               1                30  "
      ]
     },
     "execution_count": 22,
     "metadata": {},
     "output_type": "execute_result"
    }
   ],
   "source": [
    "dt_train.head()"
   ]
  },
  {
   "cell_type": "code",
   "execution_count": 23,
   "metadata": {},
   "outputs": [
    {
     "name": "stdout",
     "output_type": "stream",
     "text": [
      "29337 9779 9779\n"
     ]
    }
   ],
   "source": [
    "dt_train = dt_train.reset_index(drop = True)\n",
    "dt_val   = dt_val.reset_index(drop = True)\n",
    "dt_test  = dt_test.reset_index(drop = True)\n",
    "print(len(dt_train), len(dt_val), len(dt_test))"
   ]
  },
  {
   "cell_type": "code",
   "execution_count": 24,
   "metadata": {},
   "outputs": [],
   "source": [
    "# Apply log transformation to the 'price' variable:\n",
    "y_train = np.log1p(dt_train['price'].values)\n",
    "y_val = np.log1p(dt_val['price'].values)\n",
    "y_test = np.log1p(dt_test['price'].values)"
   ]
  },
  {
   "cell_type": "code",
   "execution_count": 25,
   "metadata": {},
   "outputs": [
    {
     "data": {
      "text/plain": [
       "array([4.49980967, 3.4339872 , 4.79579055, ..., 4.61512052, 4.2341065 ,\n",
       "       3.8286414 ])"
      ]
     },
     "execution_count": 25,
     "metadata": {},
     "output_type": "execute_result"
    }
   ],
   "source": [
    "y_train"
   ]
  },
  {
   "cell_type": "code",
   "execution_count": 26,
   "metadata": {},
   "outputs": [
    {
     "name": "stdout",
     "output_type": "stream",
     "text": [
      "29337 9779 9779\n"
     ]
    }
   ],
   "source": [
    "print(len(y_train), len(y_val), len(y_test))"
   ]
  },
  {
   "cell_type": "code",
   "execution_count": 27,
   "metadata": {},
   "outputs": [],
   "source": [
    "del dt_train['price']\n",
    "del dt_val['price']\n",
    "del dt_test['price']"
   ]
  },
  {
   "cell_type": "code",
   "execution_count": 28,
   "metadata": {},
   "outputs": [
    {
     "data": {
      "text/html": [
       "<div>\n",
       "<style scoped>\n",
       "    .dataframe tbody tr th:only-of-type {\n",
       "        vertical-align: middle;\n",
       "    }\n",
       "\n",
       "    .dataframe tbody tr th {\n",
       "        vertical-align: top;\n",
       "    }\n",
       "\n",
       "    .dataframe thead th {\n",
       "        text-align: right;\n",
       "    }\n",
       "</style>\n",
       "<table border=\"1\" class=\"dataframe\">\n",
       "  <thead>\n",
       "    <tr style=\"text-align: right;\">\n",
       "      <th></th>\n",
       "      <th>latitude</th>\n",
       "      <th>longitude</th>\n",
       "      <th>minimum_nights</th>\n",
       "      <th>number_of_reviews</th>\n",
       "      <th>reviews_per_month</th>\n",
       "      <th>calculated_host_listings_count</th>\n",
       "      <th>availability_365</th>\n",
       "    </tr>\n",
       "  </thead>\n",
       "  <tbody>\n",
       "    <tr>\n",
       "      <th>0</th>\n",
       "      <td>40.64354</td>\n",
       "      <td>-73.97777</td>\n",
       "      <td>3</td>\n",
       "      <td>62</td>\n",
       "      <td>0.71</td>\n",
       "      <td>1</td>\n",
       "      <td>189</td>\n",
       "    </tr>\n",
       "    <tr>\n",
       "      <th>1</th>\n",
       "      <td>40.70666</td>\n",
       "      <td>-73.90779</td>\n",
       "      <td>21</td>\n",
       "      <td>0</td>\n",
       "      <td>NaN</td>\n",
       "      <td>1</td>\n",
       "      <td>73</td>\n",
       "    </tr>\n",
       "    <tr>\n",
       "      <th>2</th>\n",
       "      <td>40.76116</td>\n",
       "      <td>-73.99016</td>\n",
       "      <td>2</td>\n",
       "      <td>17</td>\n",
       "      <td>0.43</td>\n",
       "      <td>1</td>\n",
       "      <td>0</td>\n",
       "    </tr>\n",
       "    <tr>\n",
       "      <th>3</th>\n",
       "      <td>40.70763</td>\n",
       "      <td>-74.01050</td>\n",
       "      <td>2</td>\n",
       "      <td>5</td>\n",
       "      <td>1.88</td>\n",
       "      <td>327</td>\n",
       "      <td>272</td>\n",
       "    </tr>\n",
       "    <tr>\n",
       "      <th>4</th>\n",
       "      <td>40.79658</td>\n",
       "      <td>-73.93287</td>\n",
       "      <td>2</td>\n",
       "      <td>30</td>\n",
       "      <td>0.80</td>\n",
       "      <td>1</td>\n",
       "      <td>30</td>\n",
       "    </tr>\n",
       "  </tbody>\n",
       "</table>\n",
       "</div>"
      ],
      "text/plain": [
       "   latitude  longitude  minimum_nights  number_of_reviews  reviews_per_month  \\\n",
       "0  40.64354  -73.97777               3                 62               0.71   \n",
       "1  40.70666  -73.90779              21                  0                NaN   \n",
       "2  40.76116  -73.99016               2                 17               0.43   \n",
       "3  40.70763  -74.01050               2                  5               1.88   \n",
       "4  40.79658  -73.93287               2                 30               0.80   \n",
       "\n",
       "   calculated_host_listings_count  availability_365  \n",
       "0                               1               189  \n",
       "1                               1                73  \n",
       "2                               1                 0  \n",
       "3                             327               272  \n",
       "4                               1                30  "
      ]
     },
     "execution_count": 28,
     "metadata": {},
     "output_type": "execute_result"
    }
   ],
   "source": [
    "dt_train.head()  # Confirm 'price' is removed from the data"
   ]
  },
  {
   "cell_type": "markdown",
   "metadata": {},
   "source": [
    "Notes: \n",
    "- Training, validation, and test data without filling NA are ready\n",
    "- Target variables for training, validation, and test data are ready"
   ]
  },
  {
   "cell_type": "markdown",
   "metadata": {},
   "source": [
    "**Question 3:** RMSEs are equal across 2 ways of filling missing values.\n",
    "\n"
   ]
  },
  {
   "cell_type": "code",
   "execution_count": 29,
   "metadata": {},
   "outputs": [
    {
     "data": {
      "text/plain": [
       "latitude                             0\n",
       "longitude                            0\n",
       "minimum_nights                       0\n",
       "number_of_reviews                    0\n",
       "reviews_per_month                 5998\n",
       "calculated_host_listings_count       0\n",
       "availability_365                     0\n",
       "dtype: int64"
      ]
     },
     "execution_count": 29,
     "metadata": {},
     "output_type": "execute_result"
    }
   ],
   "source": [
    "dt_train.isnull().sum()"
   ]
  },
  {
   "cell_type": "code",
   "execution_count": 30,
   "metadata": {},
   "outputs": [
    {
     "data": {
      "text/plain": [
       "latitude                             0\n",
       "longitude                            0\n",
       "minimum_nights                       0\n",
       "number_of_reviews                    0\n",
       "reviews_per_month                 2051\n",
       "calculated_host_listings_count       0\n",
       "availability_365                     0\n",
       "dtype: int64"
      ]
     },
     "execution_count": 30,
     "metadata": {},
     "output_type": "execute_result"
    }
   ],
   "source": [
    "dt_val.isnull().sum()"
   ]
  },
  {
   "cell_type": "code",
   "execution_count": 31,
   "metadata": {},
   "outputs": [
    {
     "data": {
      "text/plain": [
       "latitude                             0\n",
       "longitude                            0\n",
       "minimum_nights                       0\n",
       "number_of_reviews                    0\n",
       "reviews_per_month                 2003\n",
       "calculated_host_listings_count       0\n",
       "availability_365                     0\n",
       "dtype: int64"
      ]
     },
     "execution_count": 31,
     "metadata": {},
     "output_type": "execute_result"
    }
   ],
   "source": [
    "dt_test.isnull().sum()"
   ]
  },
  {
   "cell_type": "code",
   "execution_count": 32,
   "metadata": {},
   "outputs": [
    {
     "data": {
      "text/plain": [
       "latitude                              0\n",
       "longitude                             0\n",
       "price                                 0\n",
       "minimum_nights                        0\n",
       "number_of_reviews                     0\n",
       "reviews_per_month                 10052\n",
       "calculated_host_listings_count        0\n",
       "availability_365                      0\n",
       "dtype: int64"
      ]
     },
     "execution_count": 32,
     "metadata": {},
     "output_type": "execute_result"
    }
   ],
   "source": [
    "data.isnull().sum()"
   ]
  },
  {
   "cell_type": "markdown",
   "metadata": {},
   "source": [
    "## Filling missing data"
   ]
  },
  {
   "cell_type": "markdown",
   "metadata": {},
   "source": [
    "Since the data is already splitted into 3 data sets, it would be more convenient to try filling 0s or mean in the 3 data sets rather than filling in the original data and split into 3 data sets again."
   ]
  },
  {
   "cell_type": "markdown",
   "metadata": {},
   "source": [
    "**Option 1**: fill missing values with 0"
   ]
  },
  {
   "cell_type": "code",
   "execution_count": 33,
   "metadata": {},
   "outputs": [],
   "source": [
    "def prepare_X_0(df): \n",
    "    \n",
    "    df = df.copy()                           \n",
    "    df = df.fillna(0)                               # Filling missing data with 0s\n",
    "    X = df.values                                   # Convert to numpy array for calculation\n",
    "    \n",
    "    return X"
   ]
  },
  {
   "cell_type": "code",
   "execution_count": 34,
   "metadata": {},
   "outputs": [],
   "source": [
    "dt_train_f0 = prepare_X_0(dt_train)\n",
    "dt_val_f0 = prepare_X_0(dt_val)"
   ]
  },
  {
   "cell_type": "code",
   "execution_count": 35,
   "metadata": {},
   "outputs": [
    {
     "data": {
      "text/plain": [
       "array([[ 4.064354e+01, -7.397777e+01,  3.000000e+00, ...,  7.100000e-01,\n",
       "         1.000000e+00,  1.890000e+02],\n",
       "       [ 4.070666e+01, -7.390779e+01,  2.100000e+01, ...,  0.000000e+00,\n",
       "         1.000000e+00,  7.300000e+01],\n",
       "       [ 4.076116e+01, -7.399016e+01,  2.000000e+00, ...,  4.300000e-01,\n",
       "         1.000000e+00,  0.000000e+00],\n",
       "       ...,\n",
       "       [ 4.072716e+01, -7.398524e+01,  3.000000e+00, ...,  3.120000e+00,\n",
       "         1.000000e+00,  6.000000e+01],\n",
       "       [ 4.079578e+01, -7.394523e+01,  2.000000e+00, ...,  2.100000e+00,\n",
       "         1.000000e+00,  2.650000e+02],\n",
       "       [ 4.069671e+01, -7.394896e+01,  1.000000e+00, ...,  5.000000e-02,\n",
       "         1.000000e+00,  0.000000e+00]])"
      ]
     },
     "execution_count": 35,
     "metadata": {},
     "output_type": "execute_result"
    }
   ],
   "source": [
    "dt_train_f0"
   ]
  },
  {
   "cell_type": "code",
   "execution_count": 36,
   "metadata": {},
   "outputs": [
    {
     "data": {
      "text/plain": [
       "(29337, 7)"
      ]
     },
     "execution_count": 36,
     "metadata": {},
     "output_type": "execute_result"
    }
   ],
   "source": [
    "dt_train_f0.shape"
   ]
  },
  {
   "cell_type": "markdown",
   "metadata": {},
   "source": [
    "Train a linear regression model: "
   ]
  },
  {
   "cell_type": "code",
   "execution_count": 37,
   "metadata": {},
   "outputs": [],
   "source": [
    "def train_linear_regression(X, y):\n",
    "    ones = np.ones(X.shape[0])\n",
    "    X = np.column_stack([ones, X]) \n",
    "    \n",
    "    XTX = X.T.dot(X) \n",
    "    XTX_inv = np.linalg.inv(XTX)  \n",
    "    w_full = XTX_inv.dot(X.T).dot(y)\n",
    "    \n",
    "    return w_full[0], w_full[1:]"
   ]
  },
  {
   "cell_type": "code",
   "execution_count": 38,
   "metadata": {},
   "outputs": [
    {
     "name": "stdout",
     "output_type": "stream",
     "text": [
      "-419.9126586345956 [ 1.30676225e+00 -5.02167855e+00 -5.59803110e-04 -4.07634896e-04\n",
      " -8.25470066e-03  1.33371320e-03  6.50203890e-04]\n"
     ]
    }
   ],
   "source": [
    "w0_f0, w_f0 = train_linear_regression(dt_train_f0, y_train)\n",
    "print(w0_f0, w_f0 )"
   ]
  },
  {
   "cell_type": "code",
   "execution_count": 39,
   "metadata": {},
   "outputs": [
    {
     "data": {
      "text/plain": [
       "array([4.7827747 , 4.45947457, 4.89702083, ..., 4.82048872, 4.86944872,\n",
       "       4.6161256 ])"
      ]
     },
     "execution_count": 39,
     "metadata": {},
     "output_type": "execute_result"
    }
   ],
   "source": [
    "y_pred_f0 = w0_f0 + dt_train_f0.dot(w_f0)\n",
    "y_pred_f0"
   ]
  },
  {
   "cell_type": "markdown",
   "metadata": {},
   "source": [
    "Use the validation data to evaluate the model:"
   ]
  },
  {
   "cell_type": "code",
   "execution_count": 40,
   "metadata": {},
   "outputs": [
    {
     "data": {
      "text/plain": [
       "array([4.57853272, 4.48375565, 4.73586367, ..., 4.77182321, 4.75592015,\n",
       "       4.78192005])"
      ]
     },
     "execution_count": 40,
     "metadata": {},
     "output_type": "execute_result"
    }
   ],
   "source": [
    "y_pred_f0_val = w0_f0 + dt_val_f0.dot(w_f0)\n",
    "y_pred_f0_val"
   ]
  },
  {
   "cell_type": "code",
   "execution_count": 41,
   "metadata": {},
   "outputs": [],
   "source": [
    "def rmse(y, y_pred):\n",
    "    se = (y - y_pred) ** 2\n",
    "    mse = se.mean()\n",
    "    return np.sqrt(mse)"
   ]
  },
  {
   "cell_type": "code",
   "execution_count": 42,
   "metadata": {},
   "outputs": [
    {
     "data": {
      "text/plain": [
       "0.64"
      ]
     },
     "execution_count": 42,
     "metadata": {},
     "output_type": "execute_result"
    }
   ],
   "source": [
    "score = round(rmse(y_val, y_pred_f0_val),2)\n",
    "score"
   ]
  },
  {
   "cell_type": "code",
   "execution_count": null,
   "metadata": {},
   "outputs": [],
   "source": []
  },
  {
   "cell_type": "markdown",
   "metadata": {},
   "source": [
    "**Option 2**: fill missing values with mean"
   ]
  },
  {
   "cell_type": "code",
   "execution_count": 43,
   "metadata": {},
   "outputs": [
    {
     "data": {
      "text/plain": [
       "count    23339.000000\n",
       "mean         1.368549\n",
       "std          1.653934\n",
       "min          0.010000\n",
       "25%          0.190000\n",
       "50%          0.710000\n",
       "75%          2.030000\n",
       "max         27.950000\n",
       "Name: reviews_per_month, dtype: float64"
      ]
     },
     "execution_count": 43,
     "metadata": {},
     "output_type": "execute_result"
    }
   ],
   "source": [
    "dt_train.reviews_per_month.describe()"
   ]
  },
  {
   "cell_type": "code",
   "execution_count": 44,
   "metadata": {},
   "outputs": [
    {
     "data": {
      "text/plain": [
       "1.3685492094777056"
      ]
     },
     "execution_count": 44,
     "metadata": {},
     "output_type": "execute_result"
    }
   ],
   "source": [
    "mean = dt_train.reviews_per_month.mean()\n",
    "mean"
   ]
  },
  {
   "cell_type": "code",
   "execution_count": 45,
   "metadata": {},
   "outputs": [],
   "source": [
    "def prepare_X_mean(df): \n",
    "    \n",
    "    df = df.copy()                           \n",
    "    df = df.fillna(mean)                               # Filling missing data with 0s\n",
    "    X = df.values                                   # Convert to numpy array for calculation\n",
    "    \n",
    "    return X"
   ]
  },
  {
   "cell_type": "code",
   "execution_count": 46,
   "metadata": {},
   "outputs": [],
   "source": [
    "dt_train_fmean = prepare_X_mean(dt_train)\n",
    "dt_val_fmean = prepare_X_mean(dt_val)"
   ]
  },
  {
   "cell_type": "code",
   "execution_count": 47,
   "metadata": {},
   "outputs": [
    {
     "data": {
      "text/plain": [
       "array([[ 4.06435400e+01, -7.39777700e+01,  3.00000000e+00, ...,\n",
       "         7.10000000e-01,  1.00000000e+00,  1.89000000e+02],\n",
       "       [ 4.07066600e+01, -7.39077900e+01,  2.10000000e+01, ...,\n",
       "         1.36854921e+00,  1.00000000e+00,  7.30000000e+01],\n",
       "       [ 4.07611600e+01, -7.39901600e+01,  2.00000000e+00, ...,\n",
       "         4.30000000e-01,  1.00000000e+00,  0.00000000e+00],\n",
       "       ...,\n",
       "       [ 4.07271600e+01, -7.39852400e+01,  3.00000000e+00, ...,\n",
       "         3.12000000e+00,  1.00000000e+00,  6.00000000e+01],\n",
       "       [ 4.07957800e+01, -7.39452300e+01,  2.00000000e+00, ...,\n",
       "         2.10000000e+00,  1.00000000e+00,  2.65000000e+02],\n",
       "       [ 4.06967100e+01, -7.39489600e+01,  1.00000000e+00, ...,\n",
       "         5.00000000e-02,  1.00000000e+00,  0.00000000e+00]])"
      ]
     },
     "execution_count": 47,
     "metadata": {},
     "output_type": "execute_result"
    }
   ],
   "source": [
    "dt_train_fmean"
   ]
  },
  {
   "cell_type": "code",
   "execution_count": 48,
   "metadata": {},
   "outputs": [
    {
     "data": {
      "text/plain": [
       "(29337, 7)"
      ]
     },
     "execution_count": 48,
     "metadata": {},
     "output_type": "execute_result"
    }
   ],
   "source": [
    "dt_train_fmean.shape"
   ]
  },
  {
   "cell_type": "markdown",
   "metadata": {},
   "source": [
    "Train a linear regression model: "
   ]
  },
  {
   "cell_type": "code",
   "execution_count": 49,
   "metadata": {},
   "outputs": [
    {
     "name": "stdout",
     "output_type": "stream",
     "text": [
      "-423.5393081956561 [ 1.31148321e+00 -5.06799071e+00 -4.87741552e-04 -6.63849280e-04\n",
      "  5.34563274e-03  1.32706019e-03  6.38794182e-04]\n"
     ]
    }
   ],
   "source": [
    "w0_fmean, w_fmean = train_linear_regression(dt_train_fmean, y_train)\n",
    "print(w0_fmean, w_fmean )"
   ]
  },
  {
   "cell_type": "code",
   "execution_count": 50,
   "metadata": {},
   "outputs": [
    {
     "data": {
      "text/plain": [
       "array([4.76589611, 4.45581848, 4.89107725, ..., 4.83526871, 4.87768975,\n",
       "       4.60682893])"
      ]
     },
     "execution_count": 50,
     "metadata": {},
     "output_type": "execute_result"
    }
   ],
   "source": [
    "y_pred_fmean = w0_fmean + dt_train_fmean.dot(w_fmean)\n",
    "y_pred_fmean"
   ]
  },
  {
   "cell_type": "markdown",
   "metadata": {},
   "source": [
    "Use the validation data to evaluate the model:"
   ]
  },
  {
   "cell_type": "code",
   "execution_count": 51,
   "metadata": {},
   "outputs": [
    {
     "data": {
      "text/plain": [
       "array([4.56404917, 4.47586466, 4.72706726, ..., 4.76271671, 4.74761535,\n",
       "       4.81081466])"
      ]
     },
     "execution_count": 51,
     "metadata": {},
     "output_type": "execute_result"
    }
   ],
   "source": [
    "y_pred_fmean_val = w0_fmean + dt_val_fmean.dot(w_fmean)\n",
    "y_pred_fmean_val"
   ]
  },
  {
   "cell_type": "code",
   "execution_count": 52,
   "metadata": {},
   "outputs": [
    {
     "data": {
      "text/plain": [
       "0.64"
      ]
     },
     "execution_count": 52,
     "metadata": {},
     "output_type": "execute_result"
    }
   ],
   "source": [
    "score = round(rmse(y_val, y_pred_fmean_val),2)\n",
    "score"
   ]
  },
  {
   "cell_type": "markdown",
   "metadata": {},
   "source": [
    "RMSE is very similar across 2 options:\n",
    "- Filling NA with 0s:    RMSE = 0.64\n",
    "- Filling NA with means: RMSE = 0.64"
   ]
  },
  {
   "cell_type": "markdown",
   "metadata": {},
   "source": [
    "**Question 4:** r = 0.0001 gives the best RMSE."
   ]
  },
  {
   "cell_type": "code",
   "execution_count": 53,
   "metadata": {},
   "outputs": [],
   "source": [
    "def train_linear_regression_reg(X, y, r = 0.001):                   # with Regularization\n",
    "    ones = np.ones(X.shape[0])\n",
    "    X = np.column_stack([ones, X]) \n",
    "    \n",
    "    XTX = X.T.dot(X) \n",
    "    XTX = XTX + r * np.eye(XTX.shape[0])\n",
    "    \n",
    "    XTX_inv = np.linalg.inv(XTX)  \n",
    "    w_full = XTX_inv.dot(X.T).dot(y)\n",
    "    \n",
    "    return w_full[0], w_full[1:]"
   ]
  },
  {
   "cell_type": "code",
   "execution_count": 54,
   "metadata": {},
   "outputs": [
    {
     "name": "stdout",
     "output_type": "stream",
     "text": [
      "0.0 // -419.9126586345956 // 0.6430337788649604\n",
      "1e-05 // -419.41376378247526 // 0.6430371927861561\n",
      "0.0001 // -414.9764926376158 // 0.6430723153643709\n",
      "0.001 // -375.2736527536038 // 0.6437669735254034\n",
      "0.01 // -191.78384053419805 // 0.6557528427434278\n",
      "1 // -3.4992168360569007 // 0.6823116950157345\n",
      "10 // -0.35127675889492427 // 0.6828430212099269\n"
     ]
    }
   ],
   "source": [
    "for r in [0.0, 0.00001, 0.0001, 0.001, 0.01, 1, 10]:\n",
    "    dt_train_f0 = prepare_X_0(dt_train)          \n",
    "    w0, w = train_linear_regression_reg(dt_train_f0, y_train, r = r)\n",
    "\n",
    "    dt_val_f0 = prepare_X_0(dt_val)\n",
    "    y_pred = w0 + dt_val_f0.dot(w)\n",
    "    score = rmse(y_val, y_pred) \n",
    "    \n",
    "    print(r, '//', w0, '//', score)"
   ]
  },
  {
   "cell_type": "markdown",
   "metadata": {},
   "source": [
    "**Question 5:** The standard deviation of all the scores is 0.008. "
   ]
  },
  {
   "cell_type": "code",
   "execution_count": 55,
   "metadata": {},
   "outputs": [
    {
     "name": "stdout",
     "output_type": "stream",
     "text": [
      "0 // -427.62844626626026 // 0.6549779961248554\n",
      "1 // -414.70554910891804 // 0.646252368584408\n",
      "2 // -423.25413365944144 // 0.6476558177376244\n",
      "3 // -421.89331589352093 // 0.6375145070438145\n",
      "4 // -422.0609909896382 // 0.6445809083258692\n",
      "5 // -429.1787523173331 // 0.6305809996849464\n",
      "6 // -427.4918955501337 // 0.6297851917458124\n",
      "7 // -428.1884699033954 // 0.6506184267134927\n",
      "8 // -427.69291185977454 // 0.6489780353719421\n",
      "9 // -426.9826895634907 // 0.643756516820227\n"
     ]
    }
   ],
   "source": [
    "for seed in [0, 1, 2, 3, 4, 5, 6, 7, 8, 9]: \n",
    "    # Split data:\n",
    "    n_val = int(len(data) * 0.2)         \n",
    "    n_test = int(len(data) * 0.2) \n",
    "    n_train = n - n_val - n_test\n",
    "    \n",
    "    idx = np.arange(len(data))\n",
    "    \n",
    "    np.random.seed(seed)\n",
    "    np.random.shuffle(idx)\n",
    "    \n",
    "    dt_train = data.iloc[idx[:n_train]]\n",
    "    dt_val   = data.iloc[idx[n_train:n_train+n_val]]\n",
    "    dt_test  = data.iloc[idx[n_train+n_val:]]\n",
    "    \n",
    "    dt_train = dt_train.reset_index(drop = True)\n",
    "    dt_val   = dt_val.reset_index(drop = True)\n",
    "    dt_test  = dt_test.reset_index(drop = True)\n",
    "    \n",
    "    y_train = np.log1p(dt_train['price'].values)\n",
    "    y_val = np.log1p(dt_val['price'].values)\n",
    "    y_test = np.log1p(dt_test['price'].values)\n",
    "    \n",
    "    del dt_train['price']\n",
    "    del dt_val['price']\n",
    "    del dt_test['price']\n",
    "    \n",
    "    # Prepare X matrix:\n",
    "    dt_train = prepare_X_0(dt_train)\n",
    "    dt_val = prepare_X_0(dt_val)\n",
    "    \n",
    "    # Train model:\n",
    "    w0, w = train_linear_regression(dt_train, y_train)\n",
    "    \n",
    "    # Validation RSME\n",
    "    y_pred = w0 + dt_val.dot(w)\n",
    "    score = rmse(y_val, y_pred)\n",
    "    \n",
    "    # Print RMSEs across different seeds:\n",
    "    print(seed, '//', w0, '//', score)\n",
    "      "
   ]
  },
  {
   "cell_type": "code",
   "execution_count": 56,
   "metadata": {},
   "outputs": [
    {
     "data": {
      "text/plain": [
       "0.008"
      ]
     },
     "execution_count": 56,
     "metadata": {},
     "output_type": "execute_result"
    }
   ],
   "source": [
    "score = [0.6549779961248554, 0.646252368584408, 0.6476558177376244, 0.6375145070438145, 0.6445809083258692, 0.6305809996849464, 0.6297851917458124, 0.6506184267134927, 0.6489780353719421, 0.643756516820227]\n",
    "std = np.std(score)\n",
    "round(std, 3)"
   ]
  },
  {
   "cell_type": "markdown",
   "metadata": {},
   "source": [
    "**Question 6:** the RMSE on the test dataset is 0.65."
   ]
  },
  {
   "cell_type": "code",
   "execution_count": 57,
   "metadata": {},
   "outputs": [],
   "source": [
    "n_val = int(len(data) * 0.2)         \n",
    "n_test = int(len(data) * 0.2) \n",
    "n_train = n - n_val - n_test\n",
    "    \n",
    "idx = np.arange(len(data))\n",
    "    \n",
    "np.random.seed(9)\n",
    "np.random.shuffle(idx)\n",
    "    \n",
    "dt_train = data.iloc[idx[:n_train]]\n",
    "dt_val   = data.iloc[idx[n_train:n_train+n_val]]\n",
    "dt_test  = data.iloc[idx[n_train+n_val:]]\n",
    "    \n",
    "dt_train = dt_train.reset_index(drop = True)\n",
    "dt_val   = dt_val.reset_index(drop = True)\n",
    "dt_test  = dt_test.reset_index(drop = True)\n",
    "    \n",
    "y_train = np.log1p(dt_train['price'].values)\n",
    "y_val = np.log1p(dt_val['price'].values)\n",
    "y_test = np.log1p(dt_test['price'].values)\n",
    "    \n",
    "del dt_train['price']\n",
    "del dt_val['price']\n",
    "del dt_test['price']"
   ]
  },
  {
   "cell_type": "code",
   "execution_count": 58,
   "metadata": {},
   "outputs": [],
   "source": [
    "dt_full_train = pd.concat([dt_train, dt_val])"
   ]
  },
  {
   "cell_type": "code",
   "execution_count": 59,
   "metadata": {},
   "outputs": [],
   "source": [
    "dt_full_train = dt_full_train.reset_index(drop=True)"
   ]
  },
  {
   "cell_type": "code",
   "execution_count": 60,
   "metadata": {},
   "outputs": [
    {
     "data": {
      "text/html": [
       "<div>\n",
       "<style scoped>\n",
       "    .dataframe tbody tr th:only-of-type {\n",
       "        vertical-align: middle;\n",
       "    }\n",
       "\n",
       "    .dataframe tbody tr th {\n",
       "        vertical-align: top;\n",
       "    }\n",
       "\n",
       "    .dataframe thead th {\n",
       "        text-align: right;\n",
       "    }\n",
       "</style>\n",
       "<table border=\"1\" class=\"dataframe\">\n",
       "  <thead>\n",
       "    <tr style=\"text-align: right;\">\n",
       "      <th></th>\n",
       "      <th>latitude</th>\n",
       "      <th>longitude</th>\n",
       "      <th>minimum_nights</th>\n",
       "      <th>number_of_reviews</th>\n",
       "      <th>reviews_per_month</th>\n",
       "      <th>calculated_host_listings_count</th>\n",
       "      <th>availability_365</th>\n",
       "    </tr>\n",
       "  </thead>\n",
       "  <tbody>\n",
       "    <tr>\n",
       "      <th>0</th>\n",
       "      <td>40.70423</td>\n",
       "      <td>-73.91595</td>\n",
       "      <td>1</td>\n",
       "      <td>3</td>\n",
       "      <td>0.13</td>\n",
       "      <td>1</td>\n",
       "      <td>0</td>\n",
       "    </tr>\n",
       "    <tr>\n",
       "      <th>1</th>\n",
       "      <td>40.77115</td>\n",
       "      <td>-73.92275</td>\n",
       "      <td>40</td>\n",
       "      <td>23</td>\n",
       "      <td>0.27</td>\n",
       "      <td>1</td>\n",
       "      <td>207</td>\n",
       "    </tr>\n",
       "    <tr>\n",
       "      <th>2</th>\n",
       "      <td>40.70401</td>\n",
       "      <td>-74.00932</td>\n",
       "      <td>29</td>\n",
       "      <td>0</td>\n",
       "      <td>NaN</td>\n",
       "      <td>96</td>\n",
       "      <td>1</td>\n",
       "    </tr>\n",
       "    <tr>\n",
       "      <th>3</th>\n",
       "      <td>40.74526</td>\n",
       "      <td>-73.97679</td>\n",
       "      <td>30</td>\n",
       "      <td>1</td>\n",
       "      <td>0.04</td>\n",
       "      <td>23</td>\n",
       "      <td>365</td>\n",
       "    </tr>\n",
       "    <tr>\n",
       "      <th>4</th>\n",
       "      <td>40.59349</td>\n",
       "      <td>-73.76377</td>\n",
       "      <td>1</td>\n",
       "      <td>1</td>\n",
       "      <td>0.16</td>\n",
       "      <td>1</td>\n",
       "      <td>90</td>\n",
       "    </tr>\n",
       "    <tr>\n",
       "      <th>...</th>\n",
       "      <td>...</td>\n",
       "      <td>...</td>\n",
       "      <td>...</td>\n",
       "      <td>...</td>\n",
       "      <td>...</td>\n",
       "      <td>...</td>\n",
       "      <td>...</td>\n",
       "    </tr>\n",
       "    <tr>\n",
       "      <th>39111</th>\n",
       "      <td>40.69440</td>\n",
       "      <td>-73.92420</td>\n",
       "      <td>3</td>\n",
       "      <td>26</td>\n",
       "      <td>2.43</td>\n",
       "      <td>1</td>\n",
       "      <td>3</td>\n",
       "    </tr>\n",
       "    <tr>\n",
       "      <th>39112</th>\n",
       "      <td>40.67133</td>\n",
       "      <td>-73.94526</td>\n",
       "      <td>2</td>\n",
       "      <td>8</td>\n",
       "      <td>0.40</td>\n",
       "      <td>1</td>\n",
       "      <td>0</td>\n",
       "    </tr>\n",
       "    <tr>\n",
       "      <th>39113</th>\n",
       "      <td>40.72982</td>\n",
       "      <td>-73.98593</td>\n",
       "      <td>2</td>\n",
       "      <td>2</td>\n",
       "      <td>0.11</td>\n",
       "      <td>1</td>\n",
       "      <td>0</td>\n",
       "    </tr>\n",
       "    <tr>\n",
       "      <th>39114</th>\n",
       "      <td>40.71969</td>\n",
       "      <td>-73.95620</td>\n",
       "      <td>1</td>\n",
       "      <td>1</td>\n",
       "      <td>0.02</td>\n",
       "      <td>1</td>\n",
       "      <td>0</td>\n",
       "    </tr>\n",
       "    <tr>\n",
       "      <th>39115</th>\n",
       "      <td>40.66949</td>\n",
       "      <td>-73.92172</td>\n",
       "      <td>1</td>\n",
       "      <td>6</td>\n",
       "      <td>1.91</td>\n",
       "      <td>2</td>\n",
       "      <td>323</td>\n",
       "    </tr>\n",
       "  </tbody>\n",
       "</table>\n",
       "<p>39116 rows × 7 columns</p>\n",
       "</div>"
      ],
      "text/plain": [
       "       latitude  longitude  minimum_nights  number_of_reviews  \\\n",
       "0      40.70423  -73.91595               1                  3   \n",
       "1      40.77115  -73.92275              40                 23   \n",
       "2      40.70401  -74.00932              29                  0   \n",
       "3      40.74526  -73.97679              30                  1   \n",
       "4      40.59349  -73.76377               1                  1   \n",
       "...         ...        ...             ...                ...   \n",
       "39111  40.69440  -73.92420               3                 26   \n",
       "39112  40.67133  -73.94526               2                  8   \n",
       "39113  40.72982  -73.98593               2                  2   \n",
       "39114  40.71969  -73.95620               1                  1   \n",
       "39115  40.66949  -73.92172               1                  6   \n",
       "\n",
       "       reviews_per_month  calculated_host_listings_count  availability_365  \n",
       "0                   0.13                               1                 0  \n",
       "1                   0.27                               1               207  \n",
       "2                    NaN                              96                 1  \n",
       "3                   0.04                              23               365  \n",
       "4                   0.16                               1                90  \n",
       "...                  ...                             ...               ...  \n",
       "39111               2.43                               1                 3  \n",
       "39112               0.40                               1                 0  \n",
       "39113               0.11                               1                 0  \n",
       "39114               0.02                               1                 0  \n",
       "39115               1.91                               2               323  \n",
       "\n",
       "[39116 rows x 7 columns]"
      ]
     },
     "execution_count": 60,
     "metadata": {},
     "output_type": "execute_result"
    }
   ],
   "source": [
    "dt_full_train"
   ]
  },
  {
   "cell_type": "code",
   "execution_count": 61,
   "metadata": {},
   "outputs": [],
   "source": [
    "dt_full_train = prepare_X_0(dt_full_train)"
   ]
  },
  {
   "cell_type": "code",
   "execution_count": 62,
   "metadata": {},
   "outputs": [],
   "source": [
    "y_full_train = np.concatenate([y_train, y_val])"
   ]
  },
  {
   "cell_type": "code",
   "execution_count": 63,
   "metadata": {},
   "outputs": [],
   "source": [
    "w0, w = train_linear_regression_reg(dt_full_train, y_full_train, r = 0.001)"
   ]
  },
  {
   "cell_type": "code",
   "execution_count": 64,
   "metadata": {},
   "outputs": [],
   "source": [
    "dt_test = prepare_X_0(dt_test)"
   ]
  },
  {
   "cell_type": "code",
   "execution_count": 65,
   "metadata": {},
   "outputs": [
    {
     "data": {
      "text/plain": [
       "0.6452771348591311"
      ]
     },
     "execution_count": 65,
     "metadata": {},
     "output_type": "execute_result"
    }
   ],
   "source": [
    "y_pred = w0 + dt_test.dot(w)\n",
    "score = rmse(y_pred, y_test)\n",
    "score"
   ]
  },
  {
   "cell_type": "code",
   "execution_count": null,
   "metadata": {},
   "outputs": [],
   "source": []
  }
 ],
 "metadata": {
  "kernelspec": {
   "display_name": "Python 3",
   "language": "python",
   "name": "python3"
  },
  "language_info": {
   "codemirror_mode": {
    "name": "ipython",
    "version": 3
   },
   "file_extension": ".py",
   "mimetype": "text/x-python",
   "name": "python",
   "nbconvert_exporter": "python",
   "pygments_lexer": "ipython3",
   "version": "3.8.5"
  }
 },
 "nbformat": 4,
 "nbformat_minor": 4
}
